{
 "cells": [
  {
   "cell_type": "markdown",
   "id": "27e0737a",
   "metadata": {},
   "source": [
    "# Federated Learning"
   ]
  },
  {
   "cell_type": "markdown",
   "id": "facac602",
   "metadata": {},
   "source": [
    "I don't know why, but Google colab failed to install the tensorflow-federated library. Becuase It does not work in Google Colab, we worked in jupyter notebook. So, i recommend downloading attach file and open in jupyter notebook please.  \n",
    "\n",
    "Latest version of tensorflow-federated library package is 0.48.0, but we still use 0.17.0. we could not upgrade tff version because of environment.\n",
    "\n",
    "First week, we looked at a UCI-HAR dataset. There are 30 subjects, which 70% of them are in train set and 30% are in test set. We had a debate about case that when we had new clients or we didn't have new clients.(clients meaning devices)\n",
    "\n",
    "\n",
    "[Reference 1](https://www.tensorflow.org/federated/tutorials/federated_learning_for_image_classification?hl=ko)\n",
    "[Reference 2](https://github.com/CS-savvy/experiment_with_tf_federated/blob/master/train_tff.py)"
   ]
  },
  {
   "cell_type": "markdown",
   "id": "e725cda4",
   "metadata": {},
   "source": [
    "Using already preprocessed <br>\n",
    "[Dataset Link](https://www.kaggle.com/datasets/uciml/human-activity-recognition-with-smartphones)"
   ]
  },
  {
   "cell_type": "markdown",
   "id": "1a9ff5d8",
   "metadata": {},
   "source": [
    "# Set up"
   ]
  },
  {
   "cell_type": "code",
   "execution_count": 1,
   "id": "c29cd3aa",
   "metadata": {},
   "outputs": [
    {
     "data": {
      "text/plain": [
       "sys.version_info(major=3, minor=8, micro=13, releaselevel='final', serial=0)"
      ]
     },
     "execution_count": 1,
     "metadata": {},
     "output_type": "execute_result"
    }
   ],
   "source": [
    "import sys\n",
    "sys.version_info"
   ]
  },
  {
   "cell_type": "code",
   "execution_count": 2,
   "id": "75e41499",
   "metadata": {},
   "outputs": [],
   "source": [
    "import nest_asyncio\n",
    "nest_asyncio.apply()\n",
    "\n",
    "%load_ext tensorboard"
   ]
  },
  {
   "cell_type": "code",
   "execution_count": 3,
   "id": "31bb828a",
   "metadata": {},
   "outputs": [],
   "source": [
    "import collections\n",
    "import numpy as np\n",
    "import pandas as pd\n",
    "import tensorflow as tf\n",
    "import tensorflow_federated as tff\n",
    "from matplotlib import pyplot as plt"
   ]
  },
  {
   "cell_type": "code",
   "execution_count": 4,
   "id": "51c9e8ed",
   "metadata": {},
   "outputs": [
    {
     "data": {
      "text/plain": [
       "'0.17.0'"
      ]
     },
     "execution_count": 4,
     "metadata": {},
     "output_type": "execute_result"
    }
   ],
   "source": [
    "tff.__version__"
   ]
  },
  {
   "cell_type": "code",
   "execution_count": 5,
   "id": "e63ee7a9",
   "metadata": {},
   "outputs": [
    {
     "data": {
      "text/plain": [
       "'2.3.4'"
      ]
     },
     "execution_count": 5,
     "metadata": {},
     "output_type": "execute_result"
    }
   ],
   "source": [
    "tf.__version__"
   ]
  },
  {
   "cell_type": "markdown",
   "id": "3319a5d5",
   "metadata": {},
   "source": [
    "# Data Preprocessing"
   ]
  },
  {
   "cell_type": "code",
   "execution_count": 6,
   "id": "6a1b27bc",
   "metadata": {},
   "outputs": [],
   "source": [
    "train = pd.read_csv('train.csv')"
   ]
  },
  {
   "cell_type": "code",
   "execution_count": 7,
   "id": "430844b9",
   "metadata": {},
   "outputs": [],
   "source": [
    "test = pd.read_csv('test.csv')"
   ]
  },
  {
   "cell_type": "code",
   "execution_count": 8,
   "id": "a4f3e182",
   "metadata": {
    "scrolled": true
   },
   "outputs": [
    {
     "data": {
      "text/plain": [
       "array([ 1,  3,  5,  6,  7,  8, 11, 14, 15, 16, 17, 19, 21, 22, 23, 25, 26,\n",
       "       27, 28, 29, 30], dtype=int64)"
      ]
     },
     "execution_count": 8,
     "metadata": {},
     "output_type": "execute_result"
    }
   ],
   "source": [
    "train.subject.unique()"
   ]
  },
  {
   "cell_type": "code",
   "execution_count": 9,
   "id": "f3474540",
   "metadata": {},
   "outputs": [
    {
     "data": {
      "text/plain": [
       "array([ 2,  4,  9, 10, 12, 13, 18, 20, 24], dtype=int64)"
      ]
     },
     "execution_count": 9,
     "metadata": {},
     "output_type": "execute_result"
    }
   ],
   "source": [
    "test.subject.unique()"
   ]
  },
  {
   "cell_type": "code",
   "execution_count": 10,
   "id": "6aa1a2ac",
   "metadata": {},
   "outputs": [
    {
     "data": {
      "text/html": [
       "<div>\n",
       "<style scoped>\n",
       "    .dataframe tbody tr th:only-of-type {\n",
       "        vertical-align: middle;\n",
       "    }\n",
       "\n",
       "    .dataframe tbody tr th {\n",
       "        vertical-align: top;\n",
       "    }\n",
       "\n",
       "    .dataframe thead th {\n",
       "        text-align: right;\n",
       "    }\n",
       "</style>\n",
       "<table border=\"1\" class=\"dataframe\">\n",
       "  <thead>\n",
       "    <tr style=\"text-align: right;\">\n",
       "      <th></th>\n",
       "      <th>tBodyAcc-mean()-X</th>\n",
       "      <th>tBodyAcc-mean()-Y</th>\n",
       "      <th>tBodyAcc-mean()-Z</th>\n",
       "      <th>tBodyAcc-std()-X</th>\n",
       "      <th>tBodyAcc-std()-Y</th>\n",
       "      <th>tBodyAcc-std()-Z</th>\n",
       "      <th>tBodyAcc-mad()-X</th>\n",
       "      <th>tBodyAcc-mad()-Y</th>\n",
       "      <th>tBodyAcc-mad()-Z</th>\n",
       "      <th>tBodyAcc-max()-X</th>\n",
       "      <th>...</th>\n",
       "      <th>fBodyBodyGyroJerkMag-kurtosis()</th>\n",
       "      <th>angle(tBodyAccMean,gravity)</th>\n",
       "      <th>angle(tBodyAccJerkMean),gravityMean)</th>\n",
       "      <th>angle(tBodyGyroMean,gravityMean)</th>\n",
       "      <th>angle(tBodyGyroJerkMean,gravityMean)</th>\n",
       "      <th>angle(X,gravityMean)</th>\n",
       "      <th>angle(Y,gravityMean)</th>\n",
       "      <th>angle(Z,gravityMean)</th>\n",
       "      <th>subject</th>\n",
       "      <th>Activity</th>\n",
       "    </tr>\n",
       "  </thead>\n",
       "  <tbody>\n",
       "    <tr>\n",
       "      <th>0</th>\n",
       "      <td>0.288585</td>\n",
       "      <td>-0.020294</td>\n",
       "      <td>-0.132905</td>\n",
       "      <td>-0.995279</td>\n",
       "      <td>-0.983111</td>\n",
       "      <td>-0.913526</td>\n",
       "      <td>-0.995112</td>\n",
       "      <td>-0.983185</td>\n",
       "      <td>-0.923527</td>\n",
       "      <td>-0.934724</td>\n",
       "      <td>...</td>\n",
       "      <td>-0.710304</td>\n",
       "      <td>-0.112754</td>\n",
       "      <td>0.030400</td>\n",
       "      <td>-0.464761</td>\n",
       "      <td>-0.018446</td>\n",
       "      <td>-0.841247</td>\n",
       "      <td>0.179941</td>\n",
       "      <td>-0.058627</td>\n",
       "      <td>1</td>\n",
       "      <td>STANDING</td>\n",
       "    </tr>\n",
       "    <tr>\n",
       "      <th>1</th>\n",
       "      <td>0.278419</td>\n",
       "      <td>-0.016411</td>\n",
       "      <td>-0.123520</td>\n",
       "      <td>-0.998245</td>\n",
       "      <td>-0.975300</td>\n",
       "      <td>-0.960322</td>\n",
       "      <td>-0.998807</td>\n",
       "      <td>-0.974914</td>\n",
       "      <td>-0.957686</td>\n",
       "      <td>-0.943068</td>\n",
       "      <td>...</td>\n",
       "      <td>-0.861499</td>\n",
       "      <td>0.053477</td>\n",
       "      <td>-0.007435</td>\n",
       "      <td>-0.732626</td>\n",
       "      <td>0.703511</td>\n",
       "      <td>-0.844788</td>\n",
       "      <td>0.180289</td>\n",
       "      <td>-0.054317</td>\n",
       "      <td>1</td>\n",
       "      <td>STANDING</td>\n",
       "    </tr>\n",
       "    <tr>\n",
       "      <th>2</th>\n",
       "      <td>0.279653</td>\n",
       "      <td>-0.019467</td>\n",
       "      <td>-0.113462</td>\n",
       "      <td>-0.995380</td>\n",
       "      <td>-0.967187</td>\n",
       "      <td>-0.978944</td>\n",
       "      <td>-0.996520</td>\n",
       "      <td>-0.963668</td>\n",
       "      <td>-0.977469</td>\n",
       "      <td>-0.938692</td>\n",
       "      <td>...</td>\n",
       "      <td>-0.760104</td>\n",
       "      <td>-0.118559</td>\n",
       "      <td>0.177899</td>\n",
       "      <td>0.100699</td>\n",
       "      <td>0.808529</td>\n",
       "      <td>-0.848933</td>\n",
       "      <td>0.180637</td>\n",
       "      <td>-0.049118</td>\n",
       "      <td>1</td>\n",
       "      <td>STANDING</td>\n",
       "    </tr>\n",
       "    <tr>\n",
       "      <th>3</th>\n",
       "      <td>0.279174</td>\n",
       "      <td>-0.026201</td>\n",
       "      <td>-0.123283</td>\n",
       "      <td>-0.996091</td>\n",
       "      <td>-0.983403</td>\n",
       "      <td>-0.990675</td>\n",
       "      <td>-0.997099</td>\n",
       "      <td>-0.982750</td>\n",
       "      <td>-0.989302</td>\n",
       "      <td>-0.938692</td>\n",
       "      <td>...</td>\n",
       "      <td>-0.482845</td>\n",
       "      <td>-0.036788</td>\n",
       "      <td>-0.012892</td>\n",
       "      <td>0.640011</td>\n",
       "      <td>-0.485366</td>\n",
       "      <td>-0.848649</td>\n",
       "      <td>0.181935</td>\n",
       "      <td>-0.047663</td>\n",
       "      <td>1</td>\n",
       "      <td>STANDING</td>\n",
       "    </tr>\n",
       "    <tr>\n",
       "      <th>4</th>\n",
       "      <td>0.276629</td>\n",
       "      <td>-0.016570</td>\n",
       "      <td>-0.115362</td>\n",
       "      <td>-0.998139</td>\n",
       "      <td>-0.980817</td>\n",
       "      <td>-0.990482</td>\n",
       "      <td>-0.998321</td>\n",
       "      <td>-0.979672</td>\n",
       "      <td>-0.990441</td>\n",
       "      <td>-0.942469</td>\n",
       "      <td>...</td>\n",
       "      <td>-0.699205</td>\n",
       "      <td>0.123320</td>\n",
       "      <td>0.122542</td>\n",
       "      <td>0.693578</td>\n",
       "      <td>-0.615971</td>\n",
       "      <td>-0.847865</td>\n",
       "      <td>0.185151</td>\n",
       "      <td>-0.043892</td>\n",
       "      <td>1</td>\n",
       "      <td>STANDING</td>\n",
       "    </tr>\n",
       "  </tbody>\n",
       "</table>\n",
       "<p>5 rows × 563 columns</p>\n",
       "</div>"
      ],
      "text/plain": [
       "   tBodyAcc-mean()-X  tBodyAcc-mean()-Y  tBodyAcc-mean()-Z  tBodyAcc-std()-X  \\\n",
       "0           0.288585          -0.020294          -0.132905         -0.995279   \n",
       "1           0.278419          -0.016411          -0.123520         -0.998245   \n",
       "2           0.279653          -0.019467          -0.113462         -0.995380   \n",
       "3           0.279174          -0.026201          -0.123283         -0.996091   \n",
       "4           0.276629          -0.016570          -0.115362         -0.998139   \n",
       "\n",
       "   tBodyAcc-std()-Y  tBodyAcc-std()-Z  tBodyAcc-mad()-X  tBodyAcc-mad()-Y  \\\n",
       "0         -0.983111         -0.913526         -0.995112         -0.983185   \n",
       "1         -0.975300         -0.960322         -0.998807         -0.974914   \n",
       "2         -0.967187         -0.978944         -0.996520         -0.963668   \n",
       "3         -0.983403         -0.990675         -0.997099         -0.982750   \n",
       "4         -0.980817         -0.990482         -0.998321         -0.979672   \n",
       "\n",
       "   tBodyAcc-mad()-Z  tBodyAcc-max()-X  ...  fBodyBodyGyroJerkMag-kurtosis()  \\\n",
       "0         -0.923527         -0.934724  ...                        -0.710304   \n",
       "1         -0.957686         -0.943068  ...                        -0.861499   \n",
       "2         -0.977469         -0.938692  ...                        -0.760104   \n",
       "3         -0.989302         -0.938692  ...                        -0.482845   \n",
       "4         -0.990441         -0.942469  ...                        -0.699205   \n",
       "\n",
       "   angle(tBodyAccMean,gravity)  angle(tBodyAccJerkMean),gravityMean)  \\\n",
       "0                    -0.112754                              0.030400   \n",
       "1                     0.053477                             -0.007435   \n",
       "2                    -0.118559                              0.177899   \n",
       "3                    -0.036788                             -0.012892   \n",
       "4                     0.123320                              0.122542   \n",
       "\n",
       "   angle(tBodyGyroMean,gravityMean)  angle(tBodyGyroJerkMean,gravityMean)  \\\n",
       "0                         -0.464761                             -0.018446   \n",
       "1                         -0.732626                              0.703511   \n",
       "2                          0.100699                              0.808529   \n",
       "3                          0.640011                             -0.485366   \n",
       "4                          0.693578                             -0.615971   \n",
       "\n",
       "   angle(X,gravityMean)  angle(Y,gravityMean)  angle(Z,gravityMean)  subject  \\\n",
       "0             -0.841247              0.179941             -0.058627        1   \n",
       "1             -0.844788              0.180289             -0.054317        1   \n",
       "2             -0.848933              0.180637             -0.049118        1   \n",
       "3             -0.848649              0.181935             -0.047663        1   \n",
       "4             -0.847865              0.185151             -0.043892        1   \n",
       "\n",
       "   Activity  \n",
       "0  STANDING  \n",
       "1  STANDING  \n",
       "2  STANDING  \n",
       "3  STANDING  \n",
       "4  STANDING  \n",
       "\n",
       "[5 rows x 563 columns]"
      ]
     },
     "execution_count": 10,
     "metadata": {},
     "output_type": "execute_result"
    }
   ],
   "source": [
    "df = pd.concat([train, test]).reset_index(drop=True)\n",
    "df.head()"
   ]
  },
  {
   "cell_type": "code",
   "execution_count": 11,
   "id": "3bc54e50",
   "metadata": {},
   "outputs": [],
   "source": [
    "from sklearn.preprocessing import LabelEncoder\n",
    "\n",
    "le = LabelEncoder()\n",
    "label_encoded = le.fit_transform(df['Activity'])"
   ]
  },
  {
   "cell_type": "code",
   "execution_count": 12,
   "id": "0e2c0f4a",
   "metadata": {},
   "outputs": [
    {
     "data": {
      "text/plain": [
       "array(['LAYING', 'SITTING', 'STANDING', 'WALKING', 'WALKING_DOWNSTAIRS',\n",
       "       'WALKING_UPSTAIRS'], dtype=object)"
      ]
     },
     "execution_count": 12,
     "metadata": {},
     "output_type": "execute_result"
    }
   ],
   "source": [
    "le.classes_"
   ]
  },
  {
   "cell_type": "code",
   "execution_count": 13,
   "id": "04f3cc26",
   "metadata": {},
   "outputs": [
    {
     "data": {
      "text/html": [
       "<div>\n",
       "<style scoped>\n",
       "    .dataframe tbody tr th:only-of-type {\n",
       "        vertical-align: middle;\n",
       "    }\n",
       "\n",
       "    .dataframe tbody tr th {\n",
       "        vertical-align: top;\n",
       "    }\n",
       "\n",
       "    .dataframe thead th {\n",
       "        text-align: right;\n",
       "    }\n",
       "</style>\n",
       "<table border=\"1\" class=\"dataframe\">\n",
       "  <thead>\n",
       "    <tr style=\"text-align: right;\">\n",
       "      <th></th>\n",
       "      <th>tBodyAcc-mean()-X</th>\n",
       "      <th>tBodyAcc-mean()-Y</th>\n",
       "      <th>tBodyAcc-mean()-Z</th>\n",
       "      <th>tBodyAcc-std()-X</th>\n",
       "      <th>tBodyAcc-std()-Y</th>\n",
       "      <th>tBodyAcc-std()-Z</th>\n",
       "      <th>tBodyAcc-mad()-X</th>\n",
       "      <th>tBodyAcc-mad()-Y</th>\n",
       "      <th>tBodyAcc-mad()-Z</th>\n",
       "      <th>tBodyAcc-max()-X</th>\n",
       "      <th>...</th>\n",
       "      <th>fBodyBodyGyroJerkMag-kurtosis()</th>\n",
       "      <th>angle(tBodyAccMean,gravity)</th>\n",
       "      <th>angle(tBodyAccJerkMean),gravityMean)</th>\n",
       "      <th>angle(tBodyGyroMean,gravityMean)</th>\n",
       "      <th>angle(tBodyGyroJerkMean,gravityMean)</th>\n",
       "      <th>angle(X,gravityMean)</th>\n",
       "      <th>angle(Y,gravityMean)</th>\n",
       "      <th>angle(Z,gravityMean)</th>\n",
       "      <th>subject</th>\n",
       "      <th>Activity</th>\n",
       "    </tr>\n",
       "  </thead>\n",
       "  <tbody>\n",
       "    <tr>\n",
       "      <th>0</th>\n",
       "      <td>0.288585</td>\n",
       "      <td>-0.020294</td>\n",
       "      <td>-0.132905</td>\n",
       "      <td>-0.995279</td>\n",
       "      <td>-0.983111</td>\n",
       "      <td>-0.913526</td>\n",
       "      <td>-0.995112</td>\n",
       "      <td>-0.983185</td>\n",
       "      <td>-0.923527</td>\n",
       "      <td>-0.934724</td>\n",
       "      <td>...</td>\n",
       "      <td>-0.710304</td>\n",
       "      <td>-0.112754</td>\n",
       "      <td>0.030400</td>\n",
       "      <td>-0.464761</td>\n",
       "      <td>-0.018446</td>\n",
       "      <td>-0.841247</td>\n",
       "      <td>0.179941</td>\n",
       "      <td>-0.058627</td>\n",
       "      <td>1</td>\n",
       "      <td>2</td>\n",
       "    </tr>\n",
       "    <tr>\n",
       "      <th>1</th>\n",
       "      <td>0.278419</td>\n",
       "      <td>-0.016411</td>\n",
       "      <td>-0.123520</td>\n",
       "      <td>-0.998245</td>\n",
       "      <td>-0.975300</td>\n",
       "      <td>-0.960322</td>\n",
       "      <td>-0.998807</td>\n",
       "      <td>-0.974914</td>\n",
       "      <td>-0.957686</td>\n",
       "      <td>-0.943068</td>\n",
       "      <td>...</td>\n",
       "      <td>-0.861499</td>\n",
       "      <td>0.053477</td>\n",
       "      <td>-0.007435</td>\n",
       "      <td>-0.732626</td>\n",
       "      <td>0.703511</td>\n",
       "      <td>-0.844788</td>\n",
       "      <td>0.180289</td>\n",
       "      <td>-0.054317</td>\n",
       "      <td>1</td>\n",
       "      <td>2</td>\n",
       "    </tr>\n",
       "    <tr>\n",
       "      <th>2</th>\n",
       "      <td>0.279653</td>\n",
       "      <td>-0.019467</td>\n",
       "      <td>-0.113462</td>\n",
       "      <td>-0.995380</td>\n",
       "      <td>-0.967187</td>\n",
       "      <td>-0.978944</td>\n",
       "      <td>-0.996520</td>\n",
       "      <td>-0.963668</td>\n",
       "      <td>-0.977469</td>\n",
       "      <td>-0.938692</td>\n",
       "      <td>...</td>\n",
       "      <td>-0.760104</td>\n",
       "      <td>-0.118559</td>\n",
       "      <td>0.177899</td>\n",
       "      <td>0.100699</td>\n",
       "      <td>0.808529</td>\n",
       "      <td>-0.848933</td>\n",
       "      <td>0.180637</td>\n",
       "      <td>-0.049118</td>\n",
       "      <td>1</td>\n",
       "      <td>2</td>\n",
       "    </tr>\n",
       "    <tr>\n",
       "      <th>3</th>\n",
       "      <td>0.279174</td>\n",
       "      <td>-0.026201</td>\n",
       "      <td>-0.123283</td>\n",
       "      <td>-0.996091</td>\n",
       "      <td>-0.983403</td>\n",
       "      <td>-0.990675</td>\n",
       "      <td>-0.997099</td>\n",
       "      <td>-0.982750</td>\n",
       "      <td>-0.989302</td>\n",
       "      <td>-0.938692</td>\n",
       "      <td>...</td>\n",
       "      <td>-0.482845</td>\n",
       "      <td>-0.036788</td>\n",
       "      <td>-0.012892</td>\n",
       "      <td>0.640011</td>\n",
       "      <td>-0.485366</td>\n",
       "      <td>-0.848649</td>\n",
       "      <td>0.181935</td>\n",
       "      <td>-0.047663</td>\n",
       "      <td>1</td>\n",
       "      <td>2</td>\n",
       "    </tr>\n",
       "    <tr>\n",
       "      <th>4</th>\n",
       "      <td>0.276629</td>\n",
       "      <td>-0.016570</td>\n",
       "      <td>-0.115362</td>\n",
       "      <td>-0.998139</td>\n",
       "      <td>-0.980817</td>\n",
       "      <td>-0.990482</td>\n",
       "      <td>-0.998321</td>\n",
       "      <td>-0.979672</td>\n",
       "      <td>-0.990441</td>\n",
       "      <td>-0.942469</td>\n",
       "      <td>...</td>\n",
       "      <td>-0.699205</td>\n",
       "      <td>0.123320</td>\n",
       "      <td>0.122542</td>\n",
       "      <td>0.693578</td>\n",
       "      <td>-0.615971</td>\n",
       "      <td>-0.847865</td>\n",
       "      <td>0.185151</td>\n",
       "      <td>-0.043892</td>\n",
       "      <td>1</td>\n",
       "      <td>2</td>\n",
       "    </tr>\n",
       "    <tr>\n",
       "      <th>...</th>\n",
       "      <td>...</td>\n",
       "      <td>...</td>\n",
       "      <td>...</td>\n",
       "      <td>...</td>\n",
       "      <td>...</td>\n",
       "      <td>...</td>\n",
       "      <td>...</td>\n",
       "      <td>...</td>\n",
       "      <td>...</td>\n",
       "      <td>...</td>\n",
       "      <td>...</td>\n",
       "      <td>...</td>\n",
       "      <td>...</td>\n",
       "      <td>...</td>\n",
       "      <td>...</td>\n",
       "      <td>...</td>\n",
       "      <td>...</td>\n",
       "      <td>...</td>\n",
       "      <td>...</td>\n",
       "      <td>...</td>\n",
       "      <td>...</td>\n",
       "    </tr>\n",
       "    <tr>\n",
       "      <th>10294</th>\n",
       "      <td>0.310155</td>\n",
       "      <td>-0.053391</td>\n",
       "      <td>-0.099109</td>\n",
       "      <td>-0.287866</td>\n",
       "      <td>-0.140589</td>\n",
       "      <td>-0.215088</td>\n",
       "      <td>-0.356083</td>\n",
       "      <td>-0.148775</td>\n",
       "      <td>-0.232057</td>\n",
       "      <td>0.185361</td>\n",
       "      <td>...</td>\n",
       "      <td>-0.750809</td>\n",
       "      <td>-0.337422</td>\n",
       "      <td>0.346295</td>\n",
       "      <td>0.884904</td>\n",
       "      <td>-0.698885</td>\n",
       "      <td>-0.651732</td>\n",
       "      <td>0.274627</td>\n",
       "      <td>0.184784</td>\n",
       "      <td>24</td>\n",
       "      <td>5</td>\n",
       "    </tr>\n",
       "    <tr>\n",
       "      <th>10295</th>\n",
       "      <td>0.363385</td>\n",
       "      <td>-0.039214</td>\n",
       "      <td>-0.105915</td>\n",
       "      <td>-0.305388</td>\n",
       "      <td>0.028148</td>\n",
       "      <td>-0.196373</td>\n",
       "      <td>-0.373540</td>\n",
       "      <td>-0.030036</td>\n",
       "      <td>-0.270237</td>\n",
       "      <td>0.185361</td>\n",
       "      <td>...</td>\n",
       "      <td>-0.700274</td>\n",
       "      <td>-0.736701</td>\n",
       "      <td>-0.372889</td>\n",
       "      <td>-0.657421</td>\n",
       "      <td>0.322549</td>\n",
       "      <td>-0.655181</td>\n",
       "      <td>0.273578</td>\n",
       "      <td>0.182412</td>\n",
       "      <td>24</td>\n",
       "      <td>5</td>\n",
       "    </tr>\n",
       "    <tr>\n",
       "      <th>10296</th>\n",
       "      <td>0.349966</td>\n",
       "      <td>0.030077</td>\n",
       "      <td>-0.115788</td>\n",
       "      <td>-0.329638</td>\n",
       "      <td>-0.042143</td>\n",
       "      <td>-0.250181</td>\n",
       "      <td>-0.388017</td>\n",
       "      <td>-0.133257</td>\n",
       "      <td>-0.347029</td>\n",
       "      <td>0.007471</td>\n",
       "      <td>...</td>\n",
       "      <td>-0.467179</td>\n",
       "      <td>-0.181560</td>\n",
       "      <td>0.088574</td>\n",
       "      <td>0.696663</td>\n",
       "      <td>0.363139</td>\n",
       "      <td>-0.655357</td>\n",
       "      <td>0.274479</td>\n",
       "      <td>0.181184</td>\n",
       "      <td>24</td>\n",
       "      <td>5</td>\n",
       "    </tr>\n",
       "    <tr>\n",
       "      <th>10297</th>\n",
       "      <td>0.237594</td>\n",
       "      <td>0.018467</td>\n",
       "      <td>-0.096499</td>\n",
       "      <td>-0.323114</td>\n",
       "      <td>-0.229775</td>\n",
       "      <td>-0.207574</td>\n",
       "      <td>-0.392380</td>\n",
       "      <td>-0.279610</td>\n",
       "      <td>-0.289477</td>\n",
       "      <td>0.007471</td>\n",
       "      <td>...</td>\n",
       "      <td>-0.617737</td>\n",
       "      <td>0.444558</td>\n",
       "      <td>-0.819188</td>\n",
       "      <td>0.929294</td>\n",
       "      <td>-0.008398</td>\n",
       "      <td>-0.659719</td>\n",
       "      <td>0.264782</td>\n",
       "      <td>0.187563</td>\n",
       "      <td>24</td>\n",
       "      <td>5</td>\n",
       "    </tr>\n",
       "    <tr>\n",
       "      <th>10298</th>\n",
       "      <td>0.153627</td>\n",
       "      <td>-0.018437</td>\n",
       "      <td>-0.137018</td>\n",
       "      <td>-0.330046</td>\n",
       "      <td>-0.195253</td>\n",
       "      <td>-0.164339</td>\n",
       "      <td>-0.430974</td>\n",
       "      <td>-0.218295</td>\n",
       "      <td>-0.229933</td>\n",
       "      <td>-0.111527</td>\n",
       "      <td>...</td>\n",
       "      <td>-0.436940</td>\n",
       "      <td>0.598808</td>\n",
       "      <td>-0.287951</td>\n",
       "      <td>0.876030</td>\n",
       "      <td>-0.024965</td>\n",
       "      <td>-0.660080</td>\n",
       "      <td>0.263936</td>\n",
       "      <td>0.188103</td>\n",
       "      <td>24</td>\n",
       "      <td>5</td>\n",
       "    </tr>\n",
       "  </tbody>\n",
       "</table>\n",
       "<p>10299 rows × 563 columns</p>\n",
       "</div>"
      ],
      "text/plain": [
       "       tBodyAcc-mean()-X  tBodyAcc-mean()-Y  tBodyAcc-mean()-Z  \\\n",
       "0               0.288585          -0.020294          -0.132905   \n",
       "1               0.278419          -0.016411          -0.123520   \n",
       "2               0.279653          -0.019467          -0.113462   \n",
       "3               0.279174          -0.026201          -0.123283   \n",
       "4               0.276629          -0.016570          -0.115362   \n",
       "...                  ...                ...                ...   \n",
       "10294           0.310155          -0.053391          -0.099109   \n",
       "10295           0.363385          -0.039214          -0.105915   \n",
       "10296           0.349966           0.030077          -0.115788   \n",
       "10297           0.237594           0.018467          -0.096499   \n",
       "10298           0.153627          -0.018437          -0.137018   \n",
       "\n",
       "       tBodyAcc-std()-X  tBodyAcc-std()-Y  tBodyAcc-std()-Z  tBodyAcc-mad()-X  \\\n",
       "0             -0.995279         -0.983111         -0.913526         -0.995112   \n",
       "1             -0.998245         -0.975300         -0.960322         -0.998807   \n",
       "2             -0.995380         -0.967187         -0.978944         -0.996520   \n",
       "3             -0.996091         -0.983403         -0.990675         -0.997099   \n",
       "4             -0.998139         -0.980817         -0.990482         -0.998321   \n",
       "...                 ...               ...               ...               ...   \n",
       "10294         -0.287866         -0.140589         -0.215088         -0.356083   \n",
       "10295         -0.305388          0.028148         -0.196373         -0.373540   \n",
       "10296         -0.329638         -0.042143         -0.250181         -0.388017   \n",
       "10297         -0.323114         -0.229775         -0.207574         -0.392380   \n",
       "10298         -0.330046         -0.195253         -0.164339         -0.430974   \n",
       "\n",
       "       tBodyAcc-mad()-Y  tBodyAcc-mad()-Z  tBodyAcc-max()-X  ...  \\\n",
       "0             -0.983185         -0.923527         -0.934724  ...   \n",
       "1             -0.974914         -0.957686         -0.943068  ...   \n",
       "2             -0.963668         -0.977469         -0.938692  ...   \n",
       "3             -0.982750         -0.989302         -0.938692  ...   \n",
       "4             -0.979672         -0.990441         -0.942469  ...   \n",
       "...                 ...               ...               ...  ...   \n",
       "10294         -0.148775         -0.232057          0.185361  ...   \n",
       "10295         -0.030036         -0.270237          0.185361  ...   \n",
       "10296         -0.133257         -0.347029          0.007471  ...   \n",
       "10297         -0.279610         -0.289477          0.007471  ...   \n",
       "10298         -0.218295         -0.229933         -0.111527  ...   \n",
       "\n",
       "       fBodyBodyGyroJerkMag-kurtosis()  angle(tBodyAccMean,gravity)  \\\n",
       "0                            -0.710304                    -0.112754   \n",
       "1                            -0.861499                     0.053477   \n",
       "2                            -0.760104                    -0.118559   \n",
       "3                            -0.482845                    -0.036788   \n",
       "4                            -0.699205                     0.123320   \n",
       "...                                ...                          ...   \n",
       "10294                        -0.750809                    -0.337422   \n",
       "10295                        -0.700274                    -0.736701   \n",
       "10296                        -0.467179                    -0.181560   \n",
       "10297                        -0.617737                     0.444558   \n",
       "10298                        -0.436940                     0.598808   \n",
       "\n",
       "       angle(tBodyAccJerkMean),gravityMean)  angle(tBodyGyroMean,gravityMean)  \\\n",
       "0                                  0.030400                         -0.464761   \n",
       "1                                 -0.007435                         -0.732626   \n",
       "2                                  0.177899                          0.100699   \n",
       "3                                 -0.012892                          0.640011   \n",
       "4                                  0.122542                          0.693578   \n",
       "...                                     ...                               ...   \n",
       "10294                              0.346295                          0.884904   \n",
       "10295                             -0.372889                         -0.657421   \n",
       "10296                              0.088574                          0.696663   \n",
       "10297                             -0.819188                          0.929294   \n",
       "10298                             -0.287951                          0.876030   \n",
       "\n",
       "       angle(tBodyGyroJerkMean,gravityMean)  angle(X,gravityMean)  \\\n",
       "0                                 -0.018446             -0.841247   \n",
       "1                                  0.703511             -0.844788   \n",
       "2                                  0.808529             -0.848933   \n",
       "3                                 -0.485366             -0.848649   \n",
       "4                                 -0.615971             -0.847865   \n",
       "...                                     ...                   ...   \n",
       "10294                             -0.698885             -0.651732   \n",
       "10295                              0.322549             -0.655181   \n",
       "10296                              0.363139             -0.655357   \n",
       "10297                             -0.008398             -0.659719   \n",
       "10298                             -0.024965             -0.660080   \n",
       "\n",
       "       angle(Y,gravityMean)  angle(Z,gravityMean)  subject  Activity  \n",
       "0                  0.179941             -0.058627        1         2  \n",
       "1                  0.180289             -0.054317        1         2  \n",
       "2                  0.180637             -0.049118        1         2  \n",
       "3                  0.181935             -0.047663        1         2  \n",
       "4                  0.185151             -0.043892        1         2  \n",
       "...                     ...                   ...      ...       ...  \n",
       "10294              0.274627              0.184784       24         5  \n",
       "10295              0.273578              0.182412       24         5  \n",
       "10296              0.274479              0.181184       24         5  \n",
       "10297              0.264782              0.187563       24         5  \n",
       "10298              0.263936              0.188103       24         5  \n",
       "\n",
       "[10299 rows x 563 columns]"
      ]
     },
     "execution_count": 13,
     "metadata": {},
     "output_type": "execute_result"
    }
   ],
   "source": [
    "df['Activity'] = label_encoded\n",
    "df"
   ]
  },
  {
   "cell_type": "code",
   "execution_count": 14,
   "id": "3f85f017",
   "metadata": {},
   "outputs": [],
   "source": [
    "X = df.iloc[:,:-1]\n",
    "y = df['Activity']"
   ]
  },
  {
   "cell_type": "code",
   "execution_count": 15,
   "id": "d777bddc",
   "metadata": {
    "scrolled": false
   },
   "outputs": [
    {
     "data": {
      "text/html": [
       "<div>\n",
       "<style scoped>\n",
       "    .dataframe tbody tr th:only-of-type {\n",
       "        vertical-align: middle;\n",
       "    }\n",
       "\n",
       "    .dataframe tbody tr th {\n",
       "        vertical-align: top;\n",
       "    }\n",
       "\n",
       "    .dataframe thead th {\n",
       "        text-align: right;\n",
       "    }\n",
       "</style>\n",
       "<table border=\"1\" class=\"dataframe\">\n",
       "  <thead>\n",
       "    <tr style=\"text-align: right;\">\n",
       "      <th></th>\n",
       "      <th>tBodyAcc-mean()-X</th>\n",
       "      <th>tBodyAcc-mean()-Y</th>\n",
       "      <th>tBodyAcc-mean()-Z</th>\n",
       "      <th>tBodyAcc-std()-X</th>\n",
       "      <th>tBodyAcc-std()-Y</th>\n",
       "      <th>tBodyAcc-std()-Z</th>\n",
       "      <th>tBodyAcc-mad()-X</th>\n",
       "      <th>tBodyAcc-mad()-Y</th>\n",
       "      <th>tBodyAcc-mad()-Z</th>\n",
       "      <th>tBodyAcc-max()-X</th>\n",
       "      <th>...</th>\n",
       "      <th>fBodyBodyGyroJerkMag-skewness()</th>\n",
       "      <th>fBodyBodyGyroJerkMag-kurtosis()</th>\n",
       "      <th>angle(tBodyAccMean,gravity)</th>\n",
       "      <th>angle(tBodyAccJerkMean),gravityMean)</th>\n",
       "      <th>angle(tBodyGyroMean,gravityMean)</th>\n",
       "      <th>angle(tBodyGyroJerkMean,gravityMean)</th>\n",
       "      <th>angle(X,gravityMean)</th>\n",
       "      <th>angle(Y,gravityMean)</th>\n",
       "      <th>angle(Z,gravityMean)</th>\n",
       "      <th>subject</th>\n",
       "    </tr>\n",
       "  </thead>\n",
       "  <tbody>\n",
       "    <tr>\n",
       "      <th>0</th>\n",
       "      <td>0.288585</td>\n",
       "      <td>-0.020294</td>\n",
       "      <td>-0.132905</td>\n",
       "      <td>-0.995279</td>\n",
       "      <td>-0.983111</td>\n",
       "      <td>-0.913526</td>\n",
       "      <td>-0.995112</td>\n",
       "      <td>-0.983185</td>\n",
       "      <td>-0.923527</td>\n",
       "      <td>-0.934724</td>\n",
       "      <td>...</td>\n",
       "      <td>-0.298676</td>\n",
       "      <td>-0.710304</td>\n",
       "      <td>-0.112754</td>\n",
       "      <td>0.030400</td>\n",
       "      <td>-0.464761</td>\n",
       "      <td>-0.018446</td>\n",
       "      <td>-0.841247</td>\n",
       "      <td>0.179941</td>\n",
       "      <td>-0.058627</td>\n",
       "      <td>1</td>\n",
       "    </tr>\n",
       "    <tr>\n",
       "      <th>1</th>\n",
       "      <td>0.278419</td>\n",
       "      <td>-0.016411</td>\n",
       "      <td>-0.123520</td>\n",
       "      <td>-0.998245</td>\n",
       "      <td>-0.975300</td>\n",
       "      <td>-0.960322</td>\n",
       "      <td>-0.998807</td>\n",
       "      <td>-0.974914</td>\n",
       "      <td>-0.957686</td>\n",
       "      <td>-0.943068</td>\n",
       "      <td>...</td>\n",
       "      <td>-0.595051</td>\n",
       "      <td>-0.861499</td>\n",
       "      <td>0.053477</td>\n",
       "      <td>-0.007435</td>\n",
       "      <td>-0.732626</td>\n",
       "      <td>0.703511</td>\n",
       "      <td>-0.844788</td>\n",
       "      <td>0.180289</td>\n",
       "      <td>-0.054317</td>\n",
       "      <td>1</td>\n",
       "    </tr>\n",
       "    <tr>\n",
       "      <th>2</th>\n",
       "      <td>0.279653</td>\n",
       "      <td>-0.019467</td>\n",
       "      <td>-0.113462</td>\n",
       "      <td>-0.995380</td>\n",
       "      <td>-0.967187</td>\n",
       "      <td>-0.978944</td>\n",
       "      <td>-0.996520</td>\n",
       "      <td>-0.963668</td>\n",
       "      <td>-0.977469</td>\n",
       "      <td>-0.938692</td>\n",
       "      <td>...</td>\n",
       "      <td>-0.390748</td>\n",
       "      <td>-0.760104</td>\n",
       "      <td>-0.118559</td>\n",
       "      <td>0.177899</td>\n",
       "      <td>0.100699</td>\n",
       "      <td>0.808529</td>\n",
       "      <td>-0.848933</td>\n",
       "      <td>0.180637</td>\n",
       "      <td>-0.049118</td>\n",
       "      <td>1</td>\n",
       "    </tr>\n",
       "    <tr>\n",
       "      <th>3</th>\n",
       "      <td>0.279174</td>\n",
       "      <td>-0.026201</td>\n",
       "      <td>-0.123283</td>\n",
       "      <td>-0.996091</td>\n",
       "      <td>-0.983403</td>\n",
       "      <td>-0.990675</td>\n",
       "      <td>-0.997099</td>\n",
       "      <td>-0.982750</td>\n",
       "      <td>-0.989302</td>\n",
       "      <td>-0.938692</td>\n",
       "      <td>...</td>\n",
       "      <td>-0.117290</td>\n",
       "      <td>-0.482845</td>\n",
       "      <td>-0.036788</td>\n",
       "      <td>-0.012892</td>\n",
       "      <td>0.640011</td>\n",
       "      <td>-0.485366</td>\n",
       "      <td>-0.848649</td>\n",
       "      <td>0.181935</td>\n",
       "      <td>-0.047663</td>\n",
       "      <td>1</td>\n",
       "    </tr>\n",
       "    <tr>\n",
       "      <th>4</th>\n",
       "      <td>0.276629</td>\n",
       "      <td>-0.016570</td>\n",
       "      <td>-0.115362</td>\n",
       "      <td>-0.998139</td>\n",
       "      <td>-0.980817</td>\n",
       "      <td>-0.990482</td>\n",
       "      <td>-0.998321</td>\n",
       "      <td>-0.979672</td>\n",
       "      <td>-0.990441</td>\n",
       "      <td>-0.942469</td>\n",
       "      <td>...</td>\n",
       "      <td>-0.351471</td>\n",
       "      <td>-0.699205</td>\n",
       "      <td>0.123320</td>\n",
       "      <td>0.122542</td>\n",
       "      <td>0.693578</td>\n",
       "      <td>-0.615971</td>\n",
       "      <td>-0.847865</td>\n",
       "      <td>0.185151</td>\n",
       "      <td>-0.043892</td>\n",
       "      <td>1</td>\n",
       "    </tr>\n",
       "    <tr>\n",
       "      <th>...</th>\n",
       "      <td>...</td>\n",
       "      <td>...</td>\n",
       "      <td>...</td>\n",
       "      <td>...</td>\n",
       "      <td>...</td>\n",
       "      <td>...</td>\n",
       "      <td>...</td>\n",
       "      <td>...</td>\n",
       "      <td>...</td>\n",
       "      <td>...</td>\n",
       "      <td>...</td>\n",
       "      <td>...</td>\n",
       "      <td>...</td>\n",
       "      <td>...</td>\n",
       "      <td>...</td>\n",
       "      <td>...</td>\n",
       "      <td>...</td>\n",
       "      <td>...</td>\n",
       "      <td>...</td>\n",
       "      <td>...</td>\n",
       "      <td>...</td>\n",
       "    </tr>\n",
       "    <tr>\n",
       "      <th>10294</th>\n",
       "      <td>0.310155</td>\n",
       "      <td>-0.053391</td>\n",
       "      <td>-0.099109</td>\n",
       "      <td>-0.287866</td>\n",
       "      <td>-0.140589</td>\n",
       "      <td>-0.215088</td>\n",
       "      <td>-0.356083</td>\n",
       "      <td>-0.148775</td>\n",
       "      <td>-0.232057</td>\n",
       "      <td>0.185361</td>\n",
       "      <td>...</td>\n",
       "      <td>-0.376278</td>\n",
       "      <td>-0.750809</td>\n",
       "      <td>-0.337422</td>\n",
       "      <td>0.346295</td>\n",
       "      <td>0.884904</td>\n",
       "      <td>-0.698885</td>\n",
       "      <td>-0.651732</td>\n",
       "      <td>0.274627</td>\n",
       "      <td>0.184784</td>\n",
       "      <td>24</td>\n",
       "    </tr>\n",
       "    <tr>\n",
       "      <th>10295</th>\n",
       "      <td>0.363385</td>\n",
       "      <td>-0.039214</td>\n",
       "      <td>-0.105915</td>\n",
       "      <td>-0.305388</td>\n",
       "      <td>0.028148</td>\n",
       "      <td>-0.196373</td>\n",
       "      <td>-0.373540</td>\n",
       "      <td>-0.030036</td>\n",
       "      <td>-0.270237</td>\n",
       "      <td>0.185361</td>\n",
       "      <td>...</td>\n",
       "      <td>-0.320418</td>\n",
       "      <td>-0.700274</td>\n",
       "      <td>-0.736701</td>\n",
       "      <td>-0.372889</td>\n",
       "      <td>-0.657421</td>\n",
       "      <td>0.322549</td>\n",
       "      <td>-0.655181</td>\n",
       "      <td>0.273578</td>\n",
       "      <td>0.182412</td>\n",
       "      <td>24</td>\n",
       "    </tr>\n",
       "    <tr>\n",
       "      <th>10296</th>\n",
       "      <td>0.349966</td>\n",
       "      <td>0.030077</td>\n",
       "      <td>-0.115788</td>\n",
       "      <td>-0.329638</td>\n",
       "      <td>-0.042143</td>\n",
       "      <td>-0.250181</td>\n",
       "      <td>-0.388017</td>\n",
       "      <td>-0.133257</td>\n",
       "      <td>-0.347029</td>\n",
       "      <td>0.007471</td>\n",
       "      <td>...</td>\n",
       "      <td>-0.118854</td>\n",
       "      <td>-0.467179</td>\n",
       "      <td>-0.181560</td>\n",
       "      <td>0.088574</td>\n",
       "      <td>0.696663</td>\n",
       "      <td>0.363139</td>\n",
       "      <td>-0.655357</td>\n",
       "      <td>0.274479</td>\n",
       "      <td>0.181184</td>\n",
       "      <td>24</td>\n",
       "    </tr>\n",
       "    <tr>\n",
       "      <th>10297</th>\n",
       "      <td>0.237594</td>\n",
       "      <td>0.018467</td>\n",
       "      <td>-0.096499</td>\n",
       "      <td>-0.323114</td>\n",
       "      <td>-0.229775</td>\n",
       "      <td>-0.207574</td>\n",
       "      <td>-0.392380</td>\n",
       "      <td>-0.279610</td>\n",
       "      <td>-0.289477</td>\n",
       "      <td>0.007471</td>\n",
       "      <td>...</td>\n",
       "      <td>-0.205445</td>\n",
       "      <td>-0.617737</td>\n",
       "      <td>0.444558</td>\n",
       "      <td>-0.819188</td>\n",
       "      <td>0.929294</td>\n",
       "      <td>-0.008398</td>\n",
       "      <td>-0.659719</td>\n",
       "      <td>0.264782</td>\n",
       "      <td>0.187563</td>\n",
       "      <td>24</td>\n",
       "    </tr>\n",
       "    <tr>\n",
       "      <th>10298</th>\n",
       "      <td>0.153627</td>\n",
       "      <td>-0.018437</td>\n",
       "      <td>-0.137018</td>\n",
       "      <td>-0.330046</td>\n",
       "      <td>-0.195253</td>\n",
       "      <td>-0.164339</td>\n",
       "      <td>-0.430974</td>\n",
       "      <td>-0.218295</td>\n",
       "      <td>-0.229933</td>\n",
       "      <td>-0.111527</td>\n",
       "      <td>...</td>\n",
       "      <td>-0.072237</td>\n",
       "      <td>-0.436940</td>\n",
       "      <td>0.598808</td>\n",
       "      <td>-0.287951</td>\n",
       "      <td>0.876030</td>\n",
       "      <td>-0.024965</td>\n",
       "      <td>-0.660080</td>\n",
       "      <td>0.263936</td>\n",
       "      <td>0.188103</td>\n",
       "      <td>24</td>\n",
       "    </tr>\n",
       "  </tbody>\n",
       "</table>\n",
       "<p>10299 rows × 562 columns</p>\n",
       "</div>"
      ],
      "text/plain": [
       "       tBodyAcc-mean()-X  tBodyAcc-mean()-Y  tBodyAcc-mean()-Z  \\\n",
       "0               0.288585          -0.020294          -0.132905   \n",
       "1               0.278419          -0.016411          -0.123520   \n",
       "2               0.279653          -0.019467          -0.113462   \n",
       "3               0.279174          -0.026201          -0.123283   \n",
       "4               0.276629          -0.016570          -0.115362   \n",
       "...                  ...                ...                ...   \n",
       "10294           0.310155          -0.053391          -0.099109   \n",
       "10295           0.363385          -0.039214          -0.105915   \n",
       "10296           0.349966           0.030077          -0.115788   \n",
       "10297           0.237594           0.018467          -0.096499   \n",
       "10298           0.153627          -0.018437          -0.137018   \n",
       "\n",
       "       tBodyAcc-std()-X  tBodyAcc-std()-Y  tBodyAcc-std()-Z  tBodyAcc-mad()-X  \\\n",
       "0             -0.995279         -0.983111         -0.913526         -0.995112   \n",
       "1             -0.998245         -0.975300         -0.960322         -0.998807   \n",
       "2             -0.995380         -0.967187         -0.978944         -0.996520   \n",
       "3             -0.996091         -0.983403         -0.990675         -0.997099   \n",
       "4             -0.998139         -0.980817         -0.990482         -0.998321   \n",
       "...                 ...               ...               ...               ...   \n",
       "10294         -0.287866         -0.140589         -0.215088         -0.356083   \n",
       "10295         -0.305388          0.028148         -0.196373         -0.373540   \n",
       "10296         -0.329638         -0.042143         -0.250181         -0.388017   \n",
       "10297         -0.323114         -0.229775         -0.207574         -0.392380   \n",
       "10298         -0.330046         -0.195253         -0.164339         -0.430974   \n",
       "\n",
       "       tBodyAcc-mad()-Y  tBodyAcc-mad()-Z  tBodyAcc-max()-X  ...  \\\n",
       "0             -0.983185         -0.923527         -0.934724  ...   \n",
       "1             -0.974914         -0.957686         -0.943068  ...   \n",
       "2             -0.963668         -0.977469         -0.938692  ...   \n",
       "3             -0.982750         -0.989302         -0.938692  ...   \n",
       "4             -0.979672         -0.990441         -0.942469  ...   \n",
       "...                 ...               ...               ...  ...   \n",
       "10294         -0.148775         -0.232057          0.185361  ...   \n",
       "10295         -0.030036         -0.270237          0.185361  ...   \n",
       "10296         -0.133257         -0.347029          0.007471  ...   \n",
       "10297         -0.279610         -0.289477          0.007471  ...   \n",
       "10298         -0.218295         -0.229933         -0.111527  ...   \n",
       "\n",
       "       fBodyBodyGyroJerkMag-skewness()  fBodyBodyGyroJerkMag-kurtosis()  \\\n",
       "0                            -0.298676                        -0.710304   \n",
       "1                            -0.595051                        -0.861499   \n",
       "2                            -0.390748                        -0.760104   \n",
       "3                            -0.117290                        -0.482845   \n",
       "4                            -0.351471                        -0.699205   \n",
       "...                                ...                              ...   \n",
       "10294                        -0.376278                        -0.750809   \n",
       "10295                        -0.320418                        -0.700274   \n",
       "10296                        -0.118854                        -0.467179   \n",
       "10297                        -0.205445                        -0.617737   \n",
       "10298                        -0.072237                        -0.436940   \n",
       "\n",
       "       angle(tBodyAccMean,gravity)  angle(tBodyAccJerkMean),gravityMean)  \\\n",
       "0                        -0.112754                              0.030400   \n",
       "1                         0.053477                             -0.007435   \n",
       "2                        -0.118559                              0.177899   \n",
       "3                        -0.036788                             -0.012892   \n",
       "4                         0.123320                              0.122542   \n",
       "...                            ...                                   ...   \n",
       "10294                    -0.337422                              0.346295   \n",
       "10295                    -0.736701                             -0.372889   \n",
       "10296                    -0.181560                              0.088574   \n",
       "10297                     0.444558                             -0.819188   \n",
       "10298                     0.598808                             -0.287951   \n",
       "\n",
       "       angle(tBodyGyroMean,gravityMean)  angle(tBodyGyroJerkMean,gravityMean)  \\\n",
       "0                             -0.464761                             -0.018446   \n",
       "1                             -0.732626                              0.703511   \n",
       "2                              0.100699                              0.808529   \n",
       "3                              0.640011                             -0.485366   \n",
       "4                              0.693578                             -0.615971   \n",
       "...                                 ...                                   ...   \n",
       "10294                          0.884904                             -0.698885   \n",
       "10295                         -0.657421                              0.322549   \n",
       "10296                          0.696663                              0.363139   \n",
       "10297                          0.929294                             -0.008398   \n",
       "10298                          0.876030                             -0.024965   \n",
       "\n",
       "       angle(X,gravityMean)  angle(Y,gravityMean)  angle(Z,gravityMean)  \\\n",
       "0                 -0.841247              0.179941             -0.058627   \n",
       "1                 -0.844788              0.180289             -0.054317   \n",
       "2                 -0.848933              0.180637             -0.049118   \n",
       "3                 -0.848649              0.181935             -0.047663   \n",
       "4                 -0.847865              0.185151             -0.043892   \n",
       "...                     ...                   ...                   ...   \n",
       "10294             -0.651732              0.274627              0.184784   \n",
       "10295             -0.655181              0.273578              0.182412   \n",
       "10296             -0.655357              0.274479              0.181184   \n",
       "10297             -0.659719              0.264782              0.187563   \n",
       "10298             -0.660080              0.263936              0.188103   \n",
       "\n",
       "       subject  \n",
       "0            1  \n",
       "1            1  \n",
       "2            1  \n",
       "3            1  \n",
       "4            1  \n",
       "...        ...  \n",
       "10294       24  \n",
       "10295       24  \n",
       "10296       24  \n",
       "10297       24  \n",
       "10298       24  \n",
       "\n",
       "[10299 rows x 562 columns]"
      ]
     },
     "execution_count": 15,
     "metadata": {},
     "output_type": "execute_result"
    }
   ],
   "source": [
    "X"
   ]
  },
  {
   "cell_type": "code",
   "execution_count": 16,
   "id": "589b47d9",
   "metadata": {},
   "outputs": [
    {
     "data": {
      "text/plain": [
       "0        2\n",
       "1        2\n",
       "2        2\n",
       "3        2\n",
       "4        2\n",
       "        ..\n",
       "10294    5\n",
       "10295    5\n",
       "10296    5\n",
       "10297    5\n",
       "10298    5\n",
       "Name: Activity, Length: 10299, dtype: int32"
      ]
     },
     "execution_count": 16,
     "metadata": {},
     "output_type": "execute_result"
    }
   ],
   "source": [
    "y"
   ]
  },
  {
   "cell_type": "code",
   "execution_count": 17,
   "id": "981479b8",
   "metadata": {},
   "outputs": [],
   "source": [
    "from sklearn.model_selection import train_test_split\n",
    "\n",
    "X_train, X_test, y_train, y_test = train_test_split(X, y, test_size=0.2, stratify=df.subject, random_state=42)"
   ]
  },
  {
   "cell_type": "code",
   "execution_count": 18,
   "id": "c293414f",
   "metadata": {},
   "outputs": [
    {
     "name": "stdout",
     "output_type": "stream",
     "text": [
      "(8239, 562) (8239,)\n",
      "(2060, 562) (2060,)\n"
     ]
    }
   ],
   "source": [
    "print(X_train.shape, y_train.shape)\n",
    "print(X_test.shape, y_test.shape)"
   ]
  },
  {
   "cell_type": "code",
   "execution_count": 19,
   "id": "d1415bd7",
   "metadata": {},
   "outputs": [],
   "source": [
    "for i in range(1, 31):\n",
    "    X_train_sub = X_train[X_train['subject'] == i].iloc[:, :-1]\n",
    "    y_train_sub = y_train[X_train['subject'] == i]\n",
    "    train_file = pd.concat([X_train_sub, y_train_sub], axis=1)\n",
    "    train_file.to_csv('datasets/train_file' + str(i) + '.txt', index=False)"
   ]
  },
  {
   "cell_type": "code",
   "execution_count": 20,
   "id": "a4caeae1",
   "metadata": {},
   "outputs": [],
   "source": [
    "for i in range(1, 31):\n",
    "    X_test_sub = X_test[X_test['subject'] == i].iloc[:, :-1]\n",
    "    y_test_sub = y_test[X_test['subject'] == i]\n",
    "    test_file = pd.concat([X_test_sub, y_test_sub], axis=1)\n",
    "    test_file.to_csv('datasets/test_file' + str(i) + '.txt', index=False)"
   ]
  },
  {
   "cell_type": "markdown",
   "id": "eb5cf764",
   "metadata": {},
   "source": [
    "# Tensorflow Data Creation"
   ]
  },
  {
   "cell_type": "markdown",
   "id": "5a019c71",
   "metadata": {},
   "source": [
    "### Make Train set"
   ]
  },
  {
   "cell_type": "code",
   "execution_count": 21,
   "id": "f7d661ad",
   "metadata": {},
   "outputs": [],
   "source": [
    "client_train_dataset = collections.OrderedDict()\n",
    "for i in range(1, 31):\n",
    "    \n",
    "    df = pd.read_csv('datasets/train_file' + str(i) + '.txt')\n",
    "    x_train = df.iloc[:,:-1].values\n",
    "    y_train = np.array(df.Activity)    \n",
    "    \n",
    "    client_name = \"client_\" + str(i)\n",
    "\n",
    "    data = collections.OrderedDict((('label', y_train), ('pixels', x_train)))\n",
    "    client_train_dataset[client_name] = data"
   ]
  },
  {
   "cell_type": "code",
   "execution_count": 22,
   "id": "ad14a381",
   "metadata": {},
   "outputs": [],
   "source": [
    "train_dataset = tff.simulation.FromTensorSlicesClientData(client_train_dataset)"
   ]
  },
  {
   "cell_type": "code",
   "execution_count": 23,
   "id": "32efa2a4",
   "metadata": {},
   "outputs": [
    {
     "data": {
      "text/plain": [
       "OrderedDict([('label', TensorSpec(shape=(), dtype=tf.int64, name=None)),\n",
       "             ('pixels',\n",
       "              TensorSpec(shape=(561,), dtype=tf.float64, name=None))])"
      ]
     },
     "execution_count": 23,
     "metadata": {},
     "output_type": "execute_result"
    }
   ],
   "source": [
    "train_dataset.element_type_structure"
   ]
  },
  {
   "cell_type": "code",
   "execution_count": 24,
   "id": "73029b64",
   "metadata": {
    "scrolled": true
   },
   "outputs": [
    {
     "data": {
      "text/plain": [
       "['client_1',\n",
       " 'client_2',\n",
       " 'client_3',\n",
       " 'client_4',\n",
       " 'client_5',\n",
       " 'client_6',\n",
       " 'client_7',\n",
       " 'client_8',\n",
       " 'client_9',\n",
       " 'client_10',\n",
       " 'client_11',\n",
       " 'client_12',\n",
       " 'client_13',\n",
       " 'client_14',\n",
       " 'client_15',\n",
       " 'client_16',\n",
       " 'client_17',\n",
       " 'client_18',\n",
       " 'client_19',\n",
       " 'client_20',\n",
       " 'client_21',\n",
       " 'client_22',\n",
       " 'client_23',\n",
       " 'client_24',\n",
       " 'client_25',\n",
       " 'client_26',\n",
       " 'client_27',\n",
       " 'client_28',\n",
       " 'client_29',\n",
       " 'client_30']"
      ]
     },
     "execution_count": 24,
     "metadata": {},
     "output_type": "execute_result"
    }
   ],
   "source": [
    "train_dataset.client_ids"
   ]
  },
  {
   "cell_type": "code",
   "execution_count": 25,
   "id": "3b5665b6",
   "metadata": {},
   "outputs": [],
   "source": [
    "sample_dataset = train_dataset.create_tf_dataset_for_client(train_dataset.client_ids[0])"
   ]
  },
  {
   "cell_type": "code",
   "execution_count": 26,
   "id": "44d630f0",
   "metadata": {},
   "outputs": [],
   "source": [
    "sample_element = next(iter(sample_dataset))"
   ]
  },
  {
   "cell_type": "code",
   "execution_count": 27,
   "id": "ee2f16ea",
   "metadata": {},
   "outputs": [
    {
     "data": {
      "text/plain": [
       "0"
      ]
     },
     "execution_count": 27,
     "metadata": {},
     "output_type": "execute_result"
    }
   ],
   "source": [
    "sample_element['label'].numpy()"
   ]
  },
  {
   "cell_type": "code",
   "execution_count": 28,
   "id": "4882b2d6",
   "metadata": {},
   "outputs": [
    {
     "data": {
      "text/plain": [
       "array([ 2.8526329e-01, -8.8888110e-03, -1.0374518e-01, -9.9549458e-01,\n",
       "       -9.7982784e-01, -9.9541907e-01, -9.9580191e-01, -9.7867265e-01,\n",
       "       -9.9550068e-01, -9.3775406e-01, -5.5991109e-01, -8.1312665e-01,\n",
       "        8.4995073e-01,  6.9347377e-01,  8.4833835e-01, -9.8954416e-01,\n",
       "       -9.9995907e-01, -9.9972268e-01, -9.9990149e-01, -9.9553290e-01,\n",
       "       -9.7984054e-01, -9.9479481e-01, -4.7755006e-01, -3.2158971e-01,\n",
       "       -5.1922580e-01,  1.8471273e-01, -8.1654752e-02, -2.2330096e-03,\n",
       "        1.1818704e-01,  2.7345041e-01, -2.2666771e-01,  2.4823997e-01,\n",
       "       -2.4649588e-01,  2.2365705e-01, -6.8945039e-02,  1.0976763e-01,\n",
       "        3.3595921e-03,  1.3951068e-02, -1.5929713e-01,  7.8549045e-02,\n",
       "       -7.5875146e-01, -4.5998244e-02,  9.9577290e-01, -9.9413600e-01,\n",
       "       -9.7831578e-01, -9.8857181e-01, -9.9416991e-01, -9.8286882e-01,\n",
       "       -9.8883099e-01, -8.2280100e-01, -6.6390056e-02,  9.8073541e-01,\n",
       "       -7.0250277e-01, -3.2167846e-02,  9.9409287e-01, -4.9963631e-01,\n",
       "       -9.2589132e-01, -9.9846457e-01,  9.3894281e-01, -9.9416150e-01,\n",
       "       -9.9433568e-01, -9.9015949e-01, -1.0000000e+00, -1.0000000e+00,\n",
       "       -5.8786558e-01, -4.8857554e-01,  4.8844837e-01, -4.8813201e-01,\n",
       "        4.8777782e-01, -9.4025391e-01,  9.4102703e-01, -9.4601282e-01,\n",
       "        9.5264648e-01, -2.8596384e-01,  2.9719639e-01, -3.0842434e-01,\n",
       "        3.1735536e-01,  8.3187042e-02,  2.3548763e-01,  9.0418011e-01,\n",
       "        8.0899203e-02, -4.1533963e-04, -1.7179454e-02, -9.9271975e-01,\n",
       "       -9.8994592e-01, -9.9590479e-01, -9.9266118e-01, -9.8769050e-01,\n",
       "       -9.9555149e-01, -9.9031500e-01, -9.9454408e-01, -9.9838984e-01,\n",
       "        9.9338641e-01,  9.9021641e-01,  9.9146694e-01, -9.9427213e-01,\n",
       "       -9.9992388e-01, -9.9985251e-01, -9.9993082e-01, -9.9045969e-01,\n",
       "       -9.8634865e-01, -9.9628637e-01, -7.4826155e-01, -8.0663598e-01,\n",
       "       -8.6131940e-01,  1.7574389e-01,  2.2723254e-01,  9.4513668e-02,\n",
       "        3.1807842e-01,  3.7587702e-01, -8.4441899e-02,  5.2209653e-01,\n",
       "        3.1496188e-02,  1.4458565e-01,  5.6124257e-02,  7.4547278e-02,\n",
       "        2.2099585e-01, -9.5351327e-02,  1.2533538e-01, -2.2022844e-01,\n",
       "        1.8982197e-02, -8.8940444e-02,  1.1034306e-01, -9.6234199e-01,\n",
       "       -9.9311406e-01, -9.8134938e-01, -9.5835434e-01, -9.9340362e-01,\n",
       "       -9.8038901e-01, -8.4127814e-01, -9.5642916e-01, -7.4076140e-01,\n",
       "        8.4802983e-01,  9.0993843e-01,  8.2875951e-01, -9.5572082e-01,\n",
       "       -9.9789501e-01, -9.9992243e-01, -9.9954096e-01, -9.4802822e-01,\n",
       "       -9.9372477e-01, -9.7863885e-01,  3.6573370e-01, -7.4822981e-01,\n",
       "       -3.4677501e-02, -4.5939435e-02, -7.0806212e-02,  1.8243749e-01,\n",
       "       -3.3540024e-03,  1.2185212e-01, -7.9979646e-02,  1.2479139e-01,\n",
       "       -1.9461450e-01,  3.2831273e-01, -4.0662689e-01,  3.2545806e-01,\n",
       "       -5.6309184e-02, -7.9351398e-01,  8.9847587e-01, -6.9659958e-01,\n",
       "       -1.2062556e-01, -3.5133122e-02, -6.4724956e-02, -9.9395962e-01,\n",
       "       -9.9601352e-01, -9.9616353e-01, -9.9357838e-01, -9.9629155e-01,\n",
       "       -9.9597702e-01, -9.9705102e-01, -9.9689855e-01, -9.9627186e-01,\n",
       "        9.9193238e-01,  9.9679261e-01,  9.9562737e-01, -9.9616268e-01,\n",
       "       -9.9995506e-01, -9.9998232e-01, -9.9997038e-01, -9.9240093e-01,\n",
       "       -9.9639194e-01, -9.9481732e-01, -7.6498586e-01, -6.3936823e-01,\n",
       "       -7.3334022e-01,  1.0988059e-01, -1.0568265e-01,  8.9109072e-02,\n",
       "        2.1881070e-01,  2.4879309e-01,  2.4303724e-01,  3.4836602e-01,\n",
       "        3.6108825e-01,  5.1354727e-01, -3.6455370e-01,  3.9512607e-01,\n",
       "       -2.8478050e-01, -2.9408814e-02, -1.0800324e-01, -5.9232247e-02,\n",
       "       -9.8981335e-01, -9.9013960e-01, -9.9138237e-01, -9.8458674e-01,\n",
       "       -9.9020523e-01, -9.8981335e-01, -9.9982274e-01, -9.9189064e-01,\n",
       "       -6.8876959e-01,  3.6075170e-01, -3.5261908e-01,  1.2398794e-01,\n",
       "        9.8052603e-02, -9.8981335e-01, -9.9013960e-01, -9.9138237e-01,\n",
       "       -9.8458674e-01, -9.9020523e-01, -9.8981335e-01, -9.9982274e-01,\n",
       "       -9.9189064e-01, -6.8876959e-01,  3.6075170e-01, -3.5261908e-01,\n",
       "        1.2398794e-01,  9.8052603e-02, -9.9420976e-01, -9.9676198e-01,\n",
       "       -9.9654033e-01, -9.9682587e-01, -9.8689976e-01, -9.9420976e-01,\n",
       "       -9.9991628e-01, -9.9631641e-01, -8.9472336e-01,  3.8676745e-01,\n",
       "       -3.8317923e-01, -2.1155362e-01,  1.6049107e-01, -9.5121536e-01,\n",
       "       -9.3829404e-01, -9.2206691e-01, -9.6634103e-01, -9.8916465e-01,\n",
       "       -9.5121536e-01, -9.9827629e-01, -9.0565815e-01,  2.2714280e-01,\n",
       "       -3.4383281e-02, -1.7976357e-01,  3.2114382e-01, -1.6266786e-01,\n",
       "       -9.9619712e-01, -9.9682330e-01, -9.9695287e-01, -9.9727834e-01,\n",
       "       -9.9298573e-01, -9.9619712e-01, -9.9997809e-01, -9.9701868e-01,\n",
       "       -7.5395257e-01,  4.2748348e-01, -4.7559550e-01,  9.4590090e-02,\n",
       "       -6.6063249e-02, -9.9356756e-01, -9.8321534e-01, -9.9346289e-01,\n",
       "       -9.9653259e-01, -9.7827607e-01, -9.9640540e-01, -9.9484293e-01,\n",
       "       -9.8391311e-01, -9.9372238e-01, -9.9809062e-01, -9.7673435e-01,\n",
       "       -9.9766936e-01, -9.9039834e-01, -9.8427868e-01, -9.8240923e-01,\n",
       "       -9.9252725e-01, -9.9997031e-01, -9.9959592e-01, -9.9991385e-01,\n",
       "       -9.8947449e-01, -9.9035060e-01, -9.8578264e-01, -1.0000000e+00,\n",
       "       -9.0474776e-01, -1.0000000e+00,  1.6129032e-01, -1.0000000e+00,\n",
       "       -6.1538462e-01,  9.5890060e-02,  3.5107332e-02,  4.8451086e-01,\n",
       "       -6.8756732e-01, -9.5374715e-01,  6.3231951e-02, -2.5973756e-01,\n",
       "       -8.4914745e-01, -9.6118973e-01, -9.9997908e-01, -9.9997258e-01,\n",
       "       -9.9990747e-01, -9.9985871e-01, -9.9985825e-01, -9.9988169e-01,\n",
       "       -9.9993624e-01, -9.9997687e-01, -9.9997758e-01, -9.9988446e-01,\n",
       "       -9.9988211e-01, -9.9994987e-01, -9.9997434e-01, -9.9985119e-01,\n",
       "       -9.9945632e-01, -9.9996131e-01, -9.9991319e-01, -9.9963451e-01,\n",
       "       -9.9970939e-01, -9.9982435e-01, -9.9970695e-01, -9.9989503e-01,\n",
       "       -9.9958009e-01, -9.9981804e-01, -9.9975280e-01, -9.9977716e-01,\n",
       "       -9.9960239e-01, -9.9967411e-01, -9.9995075e-01, -9.9974931e-01,\n",
       "       -9.9988907e-01, -9.9985403e-01, -9.9992671e-01, -9.9969988e-01,\n",
       "       -9.9977620e-01, -9.9976291e-01, -9.9991107e-01, -9.9990975e-01,\n",
       "       -9.9990828e-01, -9.9977948e-01, -9.9991101e-01, -9.9988626e-01,\n",
       "       -9.9267002e-01, -9.8906796e-01, -9.9440684e-01, -9.9342505e-01,\n",
       "       -9.9193613e-01, -9.9605154e-01, -9.9180887e-01, -9.9279149e-01,\n",
       "       -9.9429862e-01, -9.9406990e-01, -9.9221500e-01, -9.9757189e-01,\n",
       "       -9.9427109e-01, -9.7734481e-01, -9.8240890e-01, -9.9311650e-01,\n",
       "       -9.9992381e-01, -9.9985285e-01, -9.9993115e-01, -9.9145990e-01,\n",
       "       -9.9336069e-01, -9.8992082e-01, -1.0000000e+00, -1.0000000e+00,\n",
       "       -1.0000000e+00, -2.8000000e-01,  8.0000000e-02, -4.0000000e-02,\n",
       "        2.3098237e-01,  2.3852467e-01,  8.7364709e-02, -4.3235286e-01,\n",
       "       -7.8374833e-01, -4.5119778e-01, -8.5551590e-01, -7.5796217e-01,\n",
       "       -9.8111876e-01, -9.9997925e-01, -9.9996405e-01, -9.9992615e-01,\n",
       "       -9.9987691e-01, -9.9983225e-01, -9.9987013e-01, -9.9993112e-01,\n",
       "       -9.9999509e-01, -9.9996908e-01, -9.9989772e-01, -9.9984765e-01,\n",
       "       -9.9993140e-01, -9.9995156e-01, -9.9981879e-01, -9.9986183e-01,\n",
       "       -9.9997241e-01, -9.9989292e-01, -9.9972041e-01, -9.9980222e-01,\n",
       "       -9.9975401e-01, -9.9968034e-01, -9.9987255e-01, -9.9994928e-01,\n",
       "       -9.9979914e-01, -9.9978137e-01, -9.9970859e-01, -9.9991801e-01,\n",
       "       -9.9976226e-01, -9.9995312e-01, -9.9976835e-01, -9.9994887e-01,\n",
       "       -9.9987865e-01, -9.9992557e-01, -9.9975543e-01, -9.9972922e-01,\n",
       "       -9.9984969e-01, -9.9981848e-01, -9.9994404e-01, -9.9987716e-01,\n",
       "       -9.9972652e-01, -9.9992573e-01, -9.9990417e-01, -9.6457419e-01,\n",
       "       -9.9383036e-01, -9.8426332e-01, -9.6212210e-01, -9.9262076e-01,\n",
       "       -9.8191200e-01, -9.7106635e-01, -9.9434046e-01, -9.8359084e-01,\n",
       "       -9.4879508e-01, -9.9259566e-01, -9.8147180e-01, -9.7031792e-01,\n",
       "       -9.9433182e-01, -9.9596596e-01, -9.8147828e-01, -9.9921888e-01,\n",
       "       -9.9995831e-01, -9.9974277e-01, -9.8362158e-01, -9.9559028e-01,\n",
       "       -9.9366925e-01, -5.3726857e-01, -8.5064374e-01, -7.7093105e-01,\n",
       "       -1.0000000e+00, -1.0000000e+00, -1.0000000e+00, -9.1311953e-03,\n",
       "        3.1022827e-02, -1.0442523e-01,  6.3526712e-01,  4.8557170e-01,\n",
       "       -8.0046144e-02, -4.8208250e-01,  2.1452276e-01, -5.9121165e-02,\n",
       "       -9.9919616e-01, -9.9987056e-01, -9.9983636e-01, -9.9978801e-01,\n",
       "       -9.9964262e-01, -9.9940122e-01, -9.9930434e-01, -9.9920873e-01,\n",
       "       -9.9922475e-01, -9.9978396e-01, -9.9950979e-01, -9.9926204e-01,\n",
       "       -9.9922940e-01, -9.9970634e-01, -9.9994248e-01, -9.9999613e-01,\n",
       "       -9.9998855e-01, -9.9998118e-01, -9.9998201e-01, -9.9995543e-01,\n",
       "       -9.9997679e-01, -9.9998388e-01, -9.9995956e-01, -9.9998385e-01,\n",
       "       -9.9997678e-01, -9.9997673e-01, -9.9995759e-01, -9.9997883e-01,\n",
       "       -9.9974493e-01, -9.9996728e-01, -9.9997625e-01, -9.9994973e-01,\n",
       "       -9.9993470e-01, -9.9986459e-01, -9.9988089e-01, -9.9986610e-01,\n",
       "       -9.9974836e-01, -9.9995568e-01, -9.9992146e-01, -9.9987468e-01,\n",
       "       -9.9974819e-01, -9.9994286e-01, -9.9186108e-01, -9.8949070e-01,\n",
       "       -9.8811402e-01, -9.9295051e-01, -9.9353922e-01, -9.9186108e-01,\n",
       "       -9.9985130e-01, -9.9292636e-01, -9.0701426e-01, -1.0000000e+00,\n",
       "        1.0835916e-01, -4.7950959e-01, -8.0862484e-01, -9.9656785e-01,\n",
       "       -9.9570379e-01, -9.9381053e-01, -9.9698882e-01, -9.8492981e-01,\n",
       "       -9.9656785e-01, -9.9995791e-01, -9.9152481e-01, -1.0000000e+00,\n",
       "       -6.1904762e-01,  6.9568998e-01, -7.3359904e-01, -9.5150171e-01,\n",
       "       -9.6361471e-01, -9.3434582e-01, -9.5856737e-01, -9.1661482e-01,\n",
       "       -9.3247805e-01, -9.6361471e-01, -9.9788501e-01, -9.8395172e-01,\n",
       "       -5.2419907e-01, -1.0000000e+00, -1.9513653e-01,  7.3585520e-01,\n",
       "        6.0079994e-01, -9.9691603e-01, -9.9648845e-01, -9.9599075e-01,\n",
       "       -9.9754811e-01, -9.9069812e-01, -9.9691603e-01, -9.9998533e-01,\n",
       "       -9.9682693e-01, -1.0000000e+00, -1.0000000e+00,  2.2951596e-01,\n",
       "       -4.7434358e-01, -8.4518609e-01, -1.3157685e-01,  5.6561658e-01,\n",
       "       -1.0565179e-02,  4.6694737e-02,  7.9917435e-01,  1.1596031e-01,\n",
       "       -9.7723061e-01])"
      ]
     },
     "execution_count": 28,
     "metadata": {},
     "output_type": "execute_result"
    }
   ],
   "source": [
    "sample_element['pixels'].numpy()"
   ]
  },
  {
   "cell_type": "markdown",
   "id": "b1dfbf05",
   "metadata": {},
   "source": [
    "# Data Transformation"
   ]
  },
  {
   "cell_type": "code",
   "execution_count": 29,
   "id": "aaa65f37",
   "metadata": {},
   "outputs": [],
   "source": [
    "NUM_ROUNDS = 10\n",
    "NUM_EPOCHS = 10\n",
    "BATCH_SIZE = 64\n",
    "PREFETCH_BUFFER = 10\n",
    "SHUFFLE_BUFFER = 100\n",
    "\n",
    "def preprocess(dataset):\n",
    "\n",
    "  def batch_format_fn(element):\n",
    "    \"\"\"Flatten a batch `pixels` and return the features as an `OrderedDict`.\"\"\"\n",
    "\n",
    "    return collections.OrderedDict(\n",
    "        x=tf.reshape(element['pixels'], [-1, 561]),\n",
    "        y=tf.reshape(element['label'], [-1, 1]))\n",
    "\n",
    "  return dataset.repeat(NUM_EPOCHS).shuffle(SHUFFLE_BUFFER).batch(\n",
    "      BATCH_SIZE).map(batch_format_fn).prefetch(PREFETCH_BUFFER)"
   ]
  },
  {
   "cell_type": "code",
   "execution_count": 30,
   "id": "9d846204",
   "metadata": {},
   "outputs": [],
   "source": [
    "preprocessed_sample_dataset = preprocess(sample_dataset)"
   ]
  },
  {
   "cell_type": "code",
   "execution_count": 31,
   "id": "bb5848d1",
   "metadata": {},
   "outputs": [],
   "source": [
    "sample_batch = tf.nest.map_structure(lambda x: x.numpy(), next(iter(preprocessed_sample_dataset)))"
   ]
  },
  {
   "cell_type": "code",
   "execution_count": 32,
   "id": "d5d7726c",
   "metadata": {},
   "outputs": [
    {
     "data": {
      "text/plain": [
       "OrderedDict([('x',\n",
       "              array([[ 0.27090823, -0.01441297, -0.10652245, ..., -0.3167322 ,\n",
       "                      -0.21772934, -0.32332877],\n",
       "                     [ 0.28155172, -0.01611029, -0.14009252, ..., -0.80223567,\n",
       "                       0.23416634,  0.03181717],\n",
       "                     [ 0.26076161, -0.0353707 , -0.13730782, ..., -0.68758294,\n",
       "                       0.31384947,  0.01011299],\n",
       "                     ...,\n",
       "                     [ 0.22622757, -0.05371894, -0.11252061, ..., -0.6951592 ,\n",
       "                       0.3046152 ,  0.05993533],\n",
       "                     [ 0.27672941, -0.01720955, -0.10563797, ...,  0.39713425,\n",
       "                      -0.54467991, -0.43287147],\n",
       "                     [ 0.28051914, -0.01884387, -0.21913175, ..., -0.70754928,\n",
       "                       0.2919864 ,  0.07583892]])),\n",
       "             ('y',\n",
       "              array([[1],\n",
       "                     [4],\n",
       "                     [2],\n",
       "                     [2],\n",
       "                     [3],\n",
       "                     [5],\n",
       "                     [4],\n",
       "                     [2],\n",
       "                     [2],\n",
       "                     [3],\n",
       "                     [5],\n",
       "                     [3],\n",
       "                     [1],\n",
       "                     [2],\n",
       "                     [5],\n",
       "                     [0],\n",
       "                     [5],\n",
       "                     [1],\n",
       "                     [5],\n",
       "                     [4],\n",
       "                     [3],\n",
       "                     [3],\n",
       "                     [4],\n",
       "                     [1],\n",
       "                     [1],\n",
       "                     [1],\n",
       "                     [5],\n",
       "                     [3],\n",
       "                     [5],\n",
       "                     [2],\n",
       "                     [4],\n",
       "                     [0],\n",
       "                     [3],\n",
       "                     [3],\n",
       "                     [3],\n",
       "                     [2],\n",
       "                     [2],\n",
       "                     [4],\n",
       "                     [0],\n",
       "                     [5],\n",
       "                     [4],\n",
       "                     [4],\n",
       "                     [2],\n",
       "                     [0],\n",
       "                     [1],\n",
       "                     [3],\n",
       "                     [3],\n",
       "                     [4],\n",
       "                     [2],\n",
       "                     [3],\n",
       "                     [1],\n",
       "                     [3],\n",
       "                     [0],\n",
       "                     [0],\n",
       "                     [1],\n",
       "                     [0],\n",
       "                     [3],\n",
       "                     [5],\n",
       "                     [3],\n",
       "                     [1],\n",
       "                     [1],\n",
       "                     [5],\n",
       "                     [0],\n",
       "                     [3]], dtype=int64))])"
      ]
     },
     "execution_count": 32,
     "metadata": {},
     "output_type": "execute_result"
    }
   ],
   "source": [
    "sample_batch"
   ]
  },
  {
   "cell_type": "code",
   "execution_count": 33,
   "id": "fafaff26",
   "metadata": {},
   "outputs": [
    {
     "data": {
      "text/plain": [
       "(64, 64)"
      ]
     },
     "execution_count": 33,
     "metadata": {},
     "output_type": "execute_result"
    }
   ],
   "source": [
    "len(sample_batch['x']), len(sample_batch['y'])"
   ]
  },
  {
   "cell_type": "code",
   "execution_count": 34,
   "id": "e332307d",
   "metadata": {},
   "outputs": [],
   "source": [
    "def make_federated_data(client_data, client_ids):\n",
    "    return [preprocess(client_data.create_tf_dataset_for_client(x)) for x in client_ids]"
   ]
  },
  {
   "cell_type": "code",
   "execution_count": 35,
   "id": "32406de4",
   "metadata": {},
   "outputs": [],
   "source": [
    "federated_train_data = make_federated_data(train_dataset, train_dataset.client_ids)"
   ]
  },
  {
   "cell_type": "code",
   "execution_count": 36,
   "id": "09507c18",
   "metadata": {},
   "outputs": [
    {
     "name": "stdout",
     "output_type": "stream",
     "text": [
      "Number of client datasets: 30\n",
      "First dataset: <PrefetchDataset shapes: OrderedDict([(x, (None, 561)), (y, (None, 1))]), types: OrderedDict([(x, tf.float64), (y, tf.int64)])>\n"
     ]
    }
   ],
   "source": [
    "print('Number of client datasets: {l}'.format(l=len(federated_train_data)))\n",
    "print('First dataset: {d}'.format(d=federated_train_data[0]))"
   ]
  },
  {
   "cell_type": "code",
   "execution_count": 37,
   "id": "fbda37bb",
   "metadata": {},
   "outputs": [
    {
     "data": {
      "text/plain": [
       "[<PrefetchDataset shapes: OrderedDict([(x, (None, 561)), (y, (None, 1))]), types: OrderedDict([(x, tf.float64), (y, tf.int64)])>,\n",
       " <PrefetchDataset shapes: OrderedDict([(x, (None, 561)), (y, (None, 1))]), types: OrderedDict([(x, tf.float64), (y, tf.int64)])>,\n",
       " <PrefetchDataset shapes: OrderedDict([(x, (None, 561)), (y, (None, 1))]), types: OrderedDict([(x, tf.float64), (y, tf.int64)])>,\n",
       " <PrefetchDataset shapes: OrderedDict([(x, (None, 561)), (y, (None, 1))]), types: OrderedDict([(x, tf.float64), (y, tf.int64)])>,\n",
       " <PrefetchDataset shapes: OrderedDict([(x, (None, 561)), (y, (None, 1))]), types: OrderedDict([(x, tf.float64), (y, tf.int64)])>,\n",
       " <PrefetchDataset shapes: OrderedDict([(x, (None, 561)), (y, (None, 1))]), types: OrderedDict([(x, tf.float64), (y, tf.int64)])>,\n",
       " <PrefetchDataset shapes: OrderedDict([(x, (None, 561)), (y, (None, 1))]), types: OrderedDict([(x, tf.float64), (y, tf.int64)])>,\n",
       " <PrefetchDataset shapes: OrderedDict([(x, (None, 561)), (y, (None, 1))]), types: OrderedDict([(x, tf.float64), (y, tf.int64)])>,\n",
       " <PrefetchDataset shapes: OrderedDict([(x, (None, 561)), (y, (None, 1))]), types: OrderedDict([(x, tf.float64), (y, tf.int64)])>,\n",
       " <PrefetchDataset shapes: OrderedDict([(x, (None, 561)), (y, (None, 1))]), types: OrderedDict([(x, tf.float64), (y, tf.int64)])>,\n",
       " <PrefetchDataset shapes: OrderedDict([(x, (None, 561)), (y, (None, 1))]), types: OrderedDict([(x, tf.float64), (y, tf.int64)])>,\n",
       " <PrefetchDataset shapes: OrderedDict([(x, (None, 561)), (y, (None, 1))]), types: OrderedDict([(x, tf.float64), (y, tf.int64)])>,\n",
       " <PrefetchDataset shapes: OrderedDict([(x, (None, 561)), (y, (None, 1))]), types: OrderedDict([(x, tf.float64), (y, tf.int64)])>,\n",
       " <PrefetchDataset shapes: OrderedDict([(x, (None, 561)), (y, (None, 1))]), types: OrderedDict([(x, tf.float64), (y, tf.int64)])>,\n",
       " <PrefetchDataset shapes: OrderedDict([(x, (None, 561)), (y, (None, 1))]), types: OrderedDict([(x, tf.float64), (y, tf.int64)])>,\n",
       " <PrefetchDataset shapes: OrderedDict([(x, (None, 561)), (y, (None, 1))]), types: OrderedDict([(x, tf.float64), (y, tf.int64)])>,\n",
       " <PrefetchDataset shapes: OrderedDict([(x, (None, 561)), (y, (None, 1))]), types: OrderedDict([(x, tf.float64), (y, tf.int64)])>,\n",
       " <PrefetchDataset shapes: OrderedDict([(x, (None, 561)), (y, (None, 1))]), types: OrderedDict([(x, tf.float64), (y, tf.int64)])>,\n",
       " <PrefetchDataset shapes: OrderedDict([(x, (None, 561)), (y, (None, 1))]), types: OrderedDict([(x, tf.float64), (y, tf.int64)])>,\n",
       " <PrefetchDataset shapes: OrderedDict([(x, (None, 561)), (y, (None, 1))]), types: OrderedDict([(x, tf.float64), (y, tf.int64)])>,\n",
       " <PrefetchDataset shapes: OrderedDict([(x, (None, 561)), (y, (None, 1))]), types: OrderedDict([(x, tf.float64), (y, tf.int64)])>,\n",
       " <PrefetchDataset shapes: OrderedDict([(x, (None, 561)), (y, (None, 1))]), types: OrderedDict([(x, tf.float64), (y, tf.int64)])>,\n",
       " <PrefetchDataset shapes: OrderedDict([(x, (None, 561)), (y, (None, 1))]), types: OrderedDict([(x, tf.float64), (y, tf.int64)])>,\n",
       " <PrefetchDataset shapes: OrderedDict([(x, (None, 561)), (y, (None, 1))]), types: OrderedDict([(x, tf.float64), (y, tf.int64)])>,\n",
       " <PrefetchDataset shapes: OrderedDict([(x, (None, 561)), (y, (None, 1))]), types: OrderedDict([(x, tf.float64), (y, tf.int64)])>,\n",
       " <PrefetchDataset shapes: OrderedDict([(x, (None, 561)), (y, (None, 1))]), types: OrderedDict([(x, tf.float64), (y, tf.int64)])>,\n",
       " <PrefetchDataset shapes: OrderedDict([(x, (None, 561)), (y, (None, 1))]), types: OrderedDict([(x, tf.float64), (y, tf.int64)])>,\n",
       " <PrefetchDataset shapes: OrderedDict([(x, (None, 561)), (y, (None, 1))]), types: OrderedDict([(x, tf.float64), (y, tf.int64)])>,\n",
       " <PrefetchDataset shapes: OrderedDict([(x, (None, 561)), (y, (None, 1))]), types: OrderedDict([(x, tf.float64), (y, tf.int64)])>,\n",
       " <PrefetchDataset shapes: OrderedDict([(x, (None, 561)), (y, (None, 1))]), types: OrderedDict([(x, tf.float64), (y, tf.int64)])>]"
      ]
     },
     "execution_count": 37,
     "metadata": {},
     "output_type": "execute_result"
    }
   ],
   "source": [
    "federated_train_data"
   ]
  },
  {
   "cell_type": "markdown",
   "id": "9adf7dd5",
   "metadata": {},
   "source": [
    "### Make Test set"
   ]
  },
  {
   "cell_type": "code",
   "execution_count": 38,
   "id": "76f20bab",
   "metadata": {},
   "outputs": [],
   "source": [
    "client_test_dataset = collections.OrderedDict()\n",
    "for i in range(1, 31):\n",
    "    \n",
    "    df = pd.read_csv('datasets/test_file' + str(i) + '.txt')\n",
    "    x_test = df.iloc[:,:-1].values\n",
    "    y_test = np.array(df.Activity)    \n",
    "    \n",
    "    client_name = \"client_\" + str(i)\n",
    "\n",
    "    data = collections.OrderedDict((('label', y_test), ('pixels', x_test)))\n",
    "    client_test_dataset[client_name] = data"
   ]
  },
  {
   "cell_type": "code",
   "execution_count": 39,
   "id": "1601ad55",
   "metadata": {},
   "outputs": [],
   "source": [
    "test_dataset = tff.simulation.FromTensorSlicesClientData(client_test_dataset)"
   ]
  },
  {
   "cell_type": "code",
   "execution_count": 40,
   "id": "59bff476",
   "metadata": {},
   "outputs": [
    {
     "data": {
      "text/plain": [
       "OrderedDict([('label', TensorSpec(shape=(), dtype=tf.int64, name=None)),\n",
       "             ('pixels',\n",
       "              TensorSpec(shape=(561,), dtype=tf.float64, name=None))])"
      ]
     },
     "execution_count": 40,
     "metadata": {},
     "output_type": "execute_result"
    }
   ],
   "source": [
    "test_dataset.element_type_structure"
   ]
  },
  {
   "cell_type": "code",
   "execution_count": 41,
   "id": "fdb1debc",
   "metadata": {
    "scrolled": true
   },
   "outputs": [
    {
     "data": {
      "text/plain": [
       "['client_1',\n",
       " 'client_2',\n",
       " 'client_3',\n",
       " 'client_4',\n",
       " 'client_5',\n",
       " 'client_6',\n",
       " 'client_7',\n",
       " 'client_8',\n",
       " 'client_9',\n",
       " 'client_10',\n",
       " 'client_11',\n",
       " 'client_12',\n",
       " 'client_13',\n",
       " 'client_14',\n",
       " 'client_15',\n",
       " 'client_16',\n",
       " 'client_17',\n",
       " 'client_18',\n",
       " 'client_19',\n",
       " 'client_20',\n",
       " 'client_21',\n",
       " 'client_22',\n",
       " 'client_23',\n",
       " 'client_24',\n",
       " 'client_25',\n",
       " 'client_26',\n",
       " 'client_27',\n",
       " 'client_28',\n",
       " 'client_29',\n",
       " 'client_30']"
      ]
     },
     "execution_count": 41,
     "metadata": {},
     "output_type": "execute_result"
    }
   ],
   "source": [
    "test_dataset.client_ids"
   ]
  },
  {
   "cell_type": "code",
   "execution_count": 42,
   "id": "6e87c4b8",
   "metadata": {},
   "outputs": [],
   "source": [
    "federated_test_data = make_federated_data(test_dataset, test_dataset.client_ids)"
   ]
  },
  {
   "cell_type": "code",
   "execution_count": 43,
   "id": "11461f3d",
   "metadata": {},
   "outputs": [
    {
     "data": {
      "text/plain": [
       "[<PrefetchDataset shapes: OrderedDict([(x, (None, 561)), (y, (None, 1))]), types: OrderedDict([(x, tf.float64), (y, tf.int64)])>,\n",
       " <PrefetchDataset shapes: OrderedDict([(x, (None, 561)), (y, (None, 1))]), types: OrderedDict([(x, tf.float64), (y, tf.int64)])>,\n",
       " <PrefetchDataset shapes: OrderedDict([(x, (None, 561)), (y, (None, 1))]), types: OrderedDict([(x, tf.float64), (y, tf.int64)])>,\n",
       " <PrefetchDataset shapes: OrderedDict([(x, (None, 561)), (y, (None, 1))]), types: OrderedDict([(x, tf.float64), (y, tf.int64)])>,\n",
       " <PrefetchDataset shapes: OrderedDict([(x, (None, 561)), (y, (None, 1))]), types: OrderedDict([(x, tf.float64), (y, tf.int64)])>,\n",
       " <PrefetchDataset shapes: OrderedDict([(x, (None, 561)), (y, (None, 1))]), types: OrderedDict([(x, tf.float64), (y, tf.int64)])>,\n",
       " <PrefetchDataset shapes: OrderedDict([(x, (None, 561)), (y, (None, 1))]), types: OrderedDict([(x, tf.float64), (y, tf.int64)])>,\n",
       " <PrefetchDataset shapes: OrderedDict([(x, (None, 561)), (y, (None, 1))]), types: OrderedDict([(x, tf.float64), (y, tf.int64)])>,\n",
       " <PrefetchDataset shapes: OrderedDict([(x, (None, 561)), (y, (None, 1))]), types: OrderedDict([(x, tf.float64), (y, tf.int64)])>,\n",
       " <PrefetchDataset shapes: OrderedDict([(x, (None, 561)), (y, (None, 1))]), types: OrderedDict([(x, tf.float64), (y, tf.int64)])>,\n",
       " <PrefetchDataset shapes: OrderedDict([(x, (None, 561)), (y, (None, 1))]), types: OrderedDict([(x, tf.float64), (y, tf.int64)])>,\n",
       " <PrefetchDataset shapes: OrderedDict([(x, (None, 561)), (y, (None, 1))]), types: OrderedDict([(x, tf.float64), (y, tf.int64)])>,\n",
       " <PrefetchDataset shapes: OrderedDict([(x, (None, 561)), (y, (None, 1))]), types: OrderedDict([(x, tf.float64), (y, tf.int64)])>,\n",
       " <PrefetchDataset shapes: OrderedDict([(x, (None, 561)), (y, (None, 1))]), types: OrderedDict([(x, tf.float64), (y, tf.int64)])>,\n",
       " <PrefetchDataset shapes: OrderedDict([(x, (None, 561)), (y, (None, 1))]), types: OrderedDict([(x, tf.float64), (y, tf.int64)])>,\n",
       " <PrefetchDataset shapes: OrderedDict([(x, (None, 561)), (y, (None, 1))]), types: OrderedDict([(x, tf.float64), (y, tf.int64)])>,\n",
       " <PrefetchDataset shapes: OrderedDict([(x, (None, 561)), (y, (None, 1))]), types: OrderedDict([(x, tf.float64), (y, tf.int64)])>,\n",
       " <PrefetchDataset shapes: OrderedDict([(x, (None, 561)), (y, (None, 1))]), types: OrderedDict([(x, tf.float64), (y, tf.int64)])>,\n",
       " <PrefetchDataset shapes: OrderedDict([(x, (None, 561)), (y, (None, 1))]), types: OrderedDict([(x, tf.float64), (y, tf.int64)])>,\n",
       " <PrefetchDataset shapes: OrderedDict([(x, (None, 561)), (y, (None, 1))]), types: OrderedDict([(x, tf.float64), (y, tf.int64)])>,\n",
       " <PrefetchDataset shapes: OrderedDict([(x, (None, 561)), (y, (None, 1))]), types: OrderedDict([(x, tf.float64), (y, tf.int64)])>,\n",
       " <PrefetchDataset shapes: OrderedDict([(x, (None, 561)), (y, (None, 1))]), types: OrderedDict([(x, tf.float64), (y, tf.int64)])>,\n",
       " <PrefetchDataset shapes: OrderedDict([(x, (None, 561)), (y, (None, 1))]), types: OrderedDict([(x, tf.float64), (y, tf.int64)])>,\n",
       " <PrefetchDataset shapes: OrderedDict([(x, (None, 561)), (y, (None, 1))]), types: OrderedDict([(x, tf.float64), (y, tf.int64)])>,\n",
       " <PrefetchDataset shapes: OrderedDict([(x, (None, 561)), (y, (None, 1))]), types: OrderedDict([(x, tf.float64), (y, tf.int64)])>,\n",
       " <PrefetchDataset shapes: OrderedDict([(x, (None, 561)), (y, (None, 1))]), types: OrderedDict([(x, tf.float64), (y, tf.int64)])>,\n",
       " <PrefetchDataset shapes: OrderedDict([(x, (None, 561)), (y, (None, 1))]), types: OrderedDict([(x, tf.float64), (y, tf.int64)])>,\n",
       " <PrefetchDataset shapes: OrderedDict([(x, (None, 561)), (y, (None, 1))]), types: OrderedDict([(x, tf.float64), (y, tf.int64)])>,\n",
       " <PrefetchDataset shapes: OrderedDict([(x, (None, 561)), (y, (None, 1))]), types: OrderedDict([(x, tf.float64), (y, tf.int64)])>,\n",
       " <PrefetchDataset shapes: OrderedDict([(x, (None, 561)), (y, (None, 1))]), types: OrderedDict([(x, tf.float64), (y, tf.int64)])>]"
      ]
     },
     "execution_count": 43,
     "metadata": {},
     "output_type": "execute_result"
    }
   ],
   "source": [
    "federated_test_data"
   ]
  },
  {
   "cell_type": "markdown",
   "id": "af4c8427",
   "metadata": {},
   "source": [
    "# Make Model"
   ]
  },
  {
   "cell_type": "code",
   "execution_count": 44,
   "id": "9fb034ae",
   "metadata": {},
   "outputs": [],
   "source": [
    "def create_keras_model():\n",
    "    return tf.keras.models.Sequential([\n",
    "        tf.keras.layers.Input(shape=(561,)),\n",
    "        tf.keras.layers.Dense(128, activation='relu'),\n",
    "        tf.keras.layers.Dense(6, activation='softmax'),\n",
    "    ])"
   ]
  },
  {
   "cell_type": "code",
   "execution_count": 45,
   "id": "d4dd6246",
   "metadata": {},
   "outputs": [],
   "source": [
    "def model_fn():\n",
    "\n",
    "  keras_model = create_keras_model()\n",
    "  return tff.learning.from_keras_model(\n",
    "      keras_model,\n",
    "      input_spec=preprocessed_sample_dataset.element_spec,\n",
    "      loss=tf.keras.losses.SparseCategoricalCrossentropy(),\n",
    "      metrics=[tf.keras.metrics.SparseCategoricalAccuracy()])\n"
   ]
  },
  {
   "cell_type": "code",
   "execution_count": 46,
   "id": "c006f133",
   "metadata": {},
   "outputs": [],
   "source": [
    "iterative_process = tff.learning.build_federated_averaging_process(\n",
    "    model_fn,\n",
    "    client_optimizer_fn=lambda: tf.keras.optimizers.SGD(learning_rate=0.02),\n",
    "    server_optimizer_fn=lambda: tf.keras.optimizers.SGD(learning_rate=1.0))"
   ]
  },
  {
   "cell_type": "code",
   "execution_count": 47,
   "id": "dc9c354e",
   "metadata": {
    "scrolled": true
   },
   "outputs": [
    {
     "name": "stdout",
     "output_type": "stream",
     "text": [
      "( -> <\n",
      "  model=<\n",
      "    trainable=<\n",
      "      float32[561,128],\n",
      "      float32[128],\n",
      "      float32[128,6],\n",
      "      float32[6]\n",
      "    >,\n",
      "    non_trainable=<>\n",
      "  >,\n",
      "  optimizer_state=<\n",
      "    int64\n",
      "  >,\n",
      "  delta_aggregate_state=<\n",
      "    value_sum_process=<>,\n",
      "    weight_sum_process=<>\n",
      "  >,\n",
      "  model_broadcast_state=<>\n",
      ">@SERVER)\n"
     ]
    }
   ],
   "source": [
    "print(iterative_process.initialize.type_signature.formatted_representation())"
   ]
  },
  {
   "cell_type": "code",
   "execution_count": 48,
   "id": "cde84250",
   "metadata": {},
   "outputs": [],
   "source": [
    "state = iterative_process.initialize()"
   ]
  },
  {
   "cell_type": "markdown",
   "id": "6e716e56",
   "metadata": {},
   "source": [
    "# Learning & Evaluation"
   ]
  },
  {
   "cell_type": "code",
   "execution_count": 49,
   "id": "0de61b8b",
   "metadata": {},
   "outputs": [],
   "source": [
    "state, metrics = iterative_process.next(state, federated_train_data)"
   ]
  },
  {
   "cell_type": "code",
   "execution_count": 50,
   "id": "bcba232a",
   "metadata": {},
   "outputs": [],
   "source": [
    "def plot_graph(X, y, format = '-', label=''):\n",
    "    plt.plot(X, y, format, label=label)\n",
    "    plt.xlabel(\"Epoch\")\n",
    "    plt.ylabel(\"Value\")\n",
    "    plt.grid(True)"
   ]
  },
  {
   "cell_type": "code",
   "execution_count": 51,
   "id": "9a4012bb",
   "metadata": {
    "scrolled": true
   },
   "outputs": [
    {
     "name": "stdout",
     "output_type": "stream",
     "text": [
      "Round  1, Metrics=OrderedDict([('broadcast', ()), ('aggregation', OrderedDict([('value_sum_process', ()), ('weight_sum_process', ())])), ('train', OrderedDict([('sparse_categorical_accuracy', 0.8350285), ('loss', 0.65927976)]))])\n",
      "Eval loss : 0.6617637872695923 and Eval accuracy : 0.7792207598686218\n",
      "Round  2, Metrics=OrderedDict([('broadcast', ()), ('aggregation', OrderedDict([('value_sum_process', ()), ('weight_sum_process', ())])), ('train', OrderedDict([('sparse_categorical_accuracy', 0.8764656), ('loss', 0.5064609)]))])\n",
      "Eval loss : 0.5520229339599609 and Eval accuracy : 0.7662337422370911\n",
      "Round  3, Metrics=OrderedDict([('broadcast', ()), ('aggregation', OrderedDict([('value_sum_process', ()), ('weight_sum_process', ())])), ('train', OrderedDict([('sparse_categorical_accuracy', 0.89648014), ('loss', 0.4159482)]))])\n",
      "Eval loss : 0.4799972176551819 and Eval accuracy : 0.8181818127632141\n",
      "Round  4, Metrics=OrderedDict([('broadcast', ()), ('aggregation', OrderedDict([('value_sum_process', ()), ('weight_sum_process', ())])), ('train', OrderedDict([('sparse_categorical_accuracy', 0.90413886), ('loss', 0.3601878)]))])\n",
      "Eval loss : 0.45039665699005127 and Eval accuracy : 0.8181818127632141\n",
      "WARNING:tensorflow:5 out of the last 13 calls to <function Model.make_test_function.<locals>.test_function at 0x0000018AEB5E9A60> triggered tf.function retracing. Tracing is expensive and the excessive number of tracings could be due to (1) creating @tf.function repeatedly in a loop, (2) passing tensors with different shapes, (3) passing Python objects instead of tensors. For (1), please define your @tf.function outside of the loop. For (2), @tf.function has experimental_relax_shapes=True option that relaxes argument shapes that can avoid unnecessary retracing. For (3), please refer to https://www.tensorflow.org/tutorials/customization/performance#python_or_tensor_args and https://www.tensorflow.org/api_docs/python/tf/function for  more details.\n"
     ]
    },
    {
     "name": "stderr",
     "output_type": "stream",
     "text": [
      "WARNING:tensorflow:5 out of the last 13 calls to <function Model.make_test_function.<locals>.test_function at 0x0000018AEB5E9A60> triggered tf.function retracing. Tracing is expensive and the excessive number of tracings could be due to (1) creating @tf.function repeatedly in a loop, (2) passing tensors with different shapes, (3) passing Python objects instead of tensors. For (1), please define your @tf.function outside of the loop. For (2), @tf.function has experimental_relax_shapes=True option that relaxes argument shapes that can avoid unnecessary retracing. For (3), please refer to https://www.tensorflow.org/tutorials/customization/performance#python_or_tensor_args and https://www.tensorflow.org/api_docs/python/tf/function for  more details.\n"
     ]
    },
    {
     "name": "stdout",
     "output_type": "stream",
     "text": [
      "Round  5, Metrics=OrderedDict([('broadcast', ()), ('aggregation', OrderedDict([('value_sum_process', ()), ('weight_sum_process', ())])), ('train', OrderedDict([('sparse_categorical_accuracy', 0.91530526), ('loss', 0.31681353)]))])\n",
      "Eval loss : 0.4090978801250458 and Eval accuracy : 0.8311688303947449\n",
      "WARNING:tensorflow:5 out of the last 13 calls to <function Model.make_test_function.<locals>.test_function at 0x0000018AFFA34700> triggered tf.function retracing. Tracing is expensive and the excessive number of tracings could be due to (1) creating @tf.function repeatedly in a loop, (2) passing tensors with different shapes, (3) passing Python objects instead of tensors. For (1), please define your @tf.function outside of the loop. For (2), @tf.function has experimental_relax_shapes=True option that relaxes argument shapes that can avoid unnecessary retracing. For (3), please refer to https://www.tensorflow.org/tutorials/customization/performance#python_or_tensor_args and https://www.tensorflow.org/api_docs/python/tf/function for  more details.\n"
     ]
    },
    {
     "name": "stderr",
     "output_type": "stream",
     "text": [
      "WARNING:tensorflow:5 out of the last 13 calls to <function Model.make_test_function.<locals>.test_function at 0x0000018AFFA34700> triggered tf.function retracing. Tracing is expensive and the excessive number of tracings could be due to (1) creating @tf.function repeatedly in a loop, (2) passing tensors with different shapes, (3) passing Python objects instead of tensors. For (1), please define your @tf.function outside of the loop. For (2), @tf.function has experimental_relax_shapes=True option that relaxes argument shapes that can avoid unnecessary retracing. For (3), please refer to https://www.tensorflow.org/tutorials/customization/performance#python_or_tensor_args and https://www.tensorflow.org/api_docs/python/tf/function for  more details.\n"
     ]
    },
    {
     "name": "stdout",
     "output_type": "stream",
     "text": [
      "Round  6, Metrics=OrderedDict([('broadcast', ()), ('aggregation', OrderedDict([('value_sum_process', ()), ('weight_sum_process', ())])), ('train', OrderedDict([('sparse_categorical_accuracy', 0.92351013), ('loss', 0.28590104)]))])\n",
      "Eval loss : 0.3859799802303314 and Eval accuracy : 0.8311688303947449\n",
      "WARNING:tensorflow:5 out of the last 13 calls to <function Model.make_test_function.<locals>.test_function at 0x0000018AEB465AF0> triggered tf.function retracing. Tracing is expensive and the excessive number of tracings could be due to (1) creating @tf.function repeatedly in a loop, (2) passing tensors with different shapes, (3) passing Python objects instead of tensors. For (1), please define your @tf.function outside of the loop. For (2), @tf.function has experimental_relax_shapes=True option that relaxes argument shapes that can avoid unnecessary retracing. For (3), please refer to https://www.tensorflow.org/tutorials/customization/performance#python_or_tensor_args and https://www.tensorflow.org/api_docs/python/tf/function for  more details.\n"
     ]
    },
    {
     "name": "stderr",
     "output_type": "stream",
     "text": [
      "WARNING:tensorflow:5 out of the last 13 calls to <function Model.make_test_function.<locals>.test_function at 0x0000018AEB465AF0> triggered tf.function retracing. Tracing is expensive and the excessive number of tracings could be due to (1) creating @tf.function repeatedly in a loop, (2) passing tensors with different shapes, (3) passing Python objects instead of tensors. For (1), please define your @tf.function outside of the loop. For (2), @tf.function has experimental_relax_shapes=True option that relaxes argument shapes that can avoid unnecessary retracing. For (3), please refer to https://www.tensorflow.org/tutorials/customization/performance#python_or_tensor_args and https://www.tensorflow.org/api_docs/python/tf/function for  more details.\n"
     ]
    },
    {
     "name": "stdout",
     "output_type": "stream",
     "text": [
      "Round  7, Metrics=OrderedDict([('broadcast', ()), ('aggregation', OrderedDict([('value_sum_process', ()), ('weight_sum_process', ())])), ('train', OrderedDict([('sparse_categorical_accuracy', 0.9243112), ('loss', 0.2644545)]))])\n",
      "Eval loss : 0.3689361810684204 and Eval accuracy : 0.8441558480262756\n",
      "WARNING:tensorflow:5 out of the last 13 calls to <function Model.make_test_function.<locals>.test_function at 0x0000018AE8265DC0> triggered tf.function retracing. Tracing is expensive and the excessive number of tracings could be due to (1) creating @tf.function repeatedly in a loop, (2) passing tensors with different shapes, (3) passing Python objects instead of tensors. For (1), please define your @tf.function outside of the loop. For (2), @tf.function has experimental_relax_shapes=True option that relaxes argument shapes that can avoid unnecessary retracing. For (3), please refer to https://www.tensorflow.org/tutorials/customization/performance#python_or_tensor_args and https://www.tensorflow.org/api_docs/python/tf/function for  more details.\n"
     ]
    },
    {
     "name": "stderr",
     "output_type": "stream",
     "text": [
      "WARNING:tensorflow:5 out of the last 13 calls to <function Model.make_test_function.<locals>.test_function at 0x0000018AE8265DC0> triggered tf.function retracing. Tracing is expensive and the excessive number of tracings could be due to (1) creating @tf.function repeatedly in a loop, (2) passing tensors with different shapes, (3) passing Python objects instead of tensors. For (1), please define your @tf.function outside of the loop. For (2), @tf.function has experimental_relax_shapes=True option that relaxes argument shapes that can avoid unnecessary retracing. For (3), please refer to https://www.tensorflow.org/tutorials/customization/performance#python_or_tensor_args and https://www.tensorflow.org/api_docs/python/tf/function for  more details.\n"
     ]
    },
    {
     "name": "stdout",
     "output_type": "stream",
     "text": [
      "Round  8, Metrics=OrderedDict([('broadcast', ()), ('aggregation', OrderedDict([('value_sum_process', ()), ('weight_sum_process', ())])), ('train', OrderedDict([('sparse_categorical_accuracy', 0.9286564), ('loss', 0.24640693)]))])\n",
      "Eval loss : 0.34309282898902893 and Eval accuracy : 0.8571428656578064\n",
      "WARNING:tensorflow:5 out of the last 13 calls to <function Model.make_test_function.<locals>.test_function at 0x0000018AEB465310> triggered tf.function retracing. Tracing is expensive and the excessive number of tracings could be due to (1) creating @tf.function repeatedly in a loop, (2) passing tensors with different shapes, (3) passing Python objects instead of tensors. For (1), please define your @tf.function outside of the loop. For (2), @tf.function has experimental_relax_shapes=True option that relaxes argument shapes that can avoid unnecessary retracing. For (3), please refer to https://www.tensorflow.org/tutorials/customization/performance#python_or_tensor_args and https://www.tensorflow.org/api_docs/python/tf/function for  more details.\n"
     ]
    },
    {
     "name": "stderr",
     "output_type": "stream",
     "text": [
      "WARNING:tensorflow:5 out of the last 13 calls to <function Model.make_test_function.<locals>.test_function at 0x0000018AEB465310> triggered tf.function retracing. Tracing is expensive and the excessive number of tracings could be due to (1) creating @tf.function repeatedly in a loop, (2) passing tensors with different shapes, (3) passing Python objects instead of tensors. For (1), please define your @tf.function outside of the loop. For (2), @tf.function has experimental_relax_shapes=True option that relaxes argument shapes that can avoid unnecessary retracing. For (3), please refer to https://www.tensorflow.org/tutorials/customization/performance#python_or_tensor_args and https://www.tensorflow.org/api_docs/python/tf/function for  more details.\n"
     ]
    },
    {
     "name": "stdout",
     "output_type": "stream",
     "text": [
      "Round  9, Metrics=OrderedDict([('broadcast', ()), ('aggregation', OrderedDict([('value_sum_process', ()), ('weight_sum_process', ())])), ('train', OrderedDict([('sparse_categorical_accuracy', 0.9358053), ('loss', 0.22617112)]))])\n",
      "Eval loss : 0.3386291265487671 and Eval accuracy : 0.8311688303947449\n",
      "WARNING:tensorflow:5 out of the last 13 calls to <function Model.make_test_function.<locals>.test_function at 0x0000018AE81B0940> triggered tf.function retracing. Tracing is expensive and the excessive number of tracings could be due to (1) creating @tf.function repeatedly in a loop, (2) passing tensors with different shapes, (3) passing Python objects instead of tensors. For (1), please define your @tf.function outside of the loop. For (2), @tf.function has experimental_relax_shapes=True option that relaxes argument shapes that can avoid unnecessary retracing. For (3), please refer to https://www.tensorflow.org/tutorials/customization/performance#python_or_tensor_args and https://www.tensorflow.org/api_docs/python/tf/function for  more details.\n"
     ]
    },
    {
     "name": "stderr",
     "output_type": "stream",
     "text": [
      "WARNING:tensorflow:5 out of the last 13 calls to <function Model.make_test_function.<locals>.test_function at 0x0000018AE81B0940> triggered tf.function retracing. Tracing is expensive and the excessive number of tracings could be due to (1) creating @tf.function repeatedly in a loop, (2) passing tensors with different shapes, (3) passing Python objects instead of tensors. For (1), please define your @tf.function outside of the loop. For (2), @tf.function has experimental_relax_shapes=True option that relaxes argument shapes that can avoid unnecessary retracing. For (3), please refer to https://www.tensorflow.org/tutorials/customization/performance#python_or_tensor_args and https://www.tensorflow.org/api_docs/python/tf/function for  more details.\n"
     ]
    },
    {
     "name": "stdout",
     "output_type": "stream",
     "text": [
      "Round 10, Metrics=OrderedDict([('broadcast', ()), ('aggregation', OrderedDict([('value_sum_process', ()), ('weight_sum_process', ())])), ('train', OrderedDict([('sparse_categorical_accuracy', 0.9364729), ('loss', 0.21737176)]))])\n",
      "Eval loss : 0.3230009377002716 and Eval accuracy : 0.8701298832893372\n"
     ]
    }
   ],
   "source": [
    "experiment_name = \"UCI_HAR\"\n",
    "\n",
    "tff_train_acc = []\n",
    "tff_val_acc = []\n",
    "tff_train_loss = []\n",
    "tff_val_loss = []\n",
    "\n",
    "eval_model = None\n",
    "for round_num in range(1, NUM_ROUNDS+1):\n",
    "    state, tff_metrics = iterative_process.next(state, federated_train_data)\n",
    "    eval_model = create_keras_model()\n",
    "    eval_model.compile(optimizer=tf.keras.optimizers.SGD(learning_rate=1.0),\n",
    "                       loss=tf.keras.losses.SparseCategoricalCrossentropy(),\n",
    "                       metrics=[tf.keras.metrics.SparseCategoricalAccuracy()])\n",
    "\n",
    "    state.model.assign_weights_to(eval_model)\n",
    "\n",
    "    ev_result = eval_model.evaluate(x_test, y_test, verbose=0)\n",
    "    print(f'Round {round_num:2d}, Metrics={tff_metrics}')\n",
    "    print(f\"Eval loss : {ev_result[0]} and Eval accuracy : {ev_result[1]}\")\n",
    "    tff_train_acc.append(float(tff_metrics['train']['sparse_categorical_accuracy']))\n",
    "    tff_val_acc.append(ev_result[1])\n",
    "    tff_train_loss.append(float(tff_metrics['train']['loss']))\n",
    "    tff_val_loss.append(ev_result[0])\n",
    "\n",
    "metric_collection = {\"sparse_categorical_accuracy\": tff_train_acc,\n",
    "                     \"val_sparse_categorical_accuracy\": tff_val_acc,\n",
    "                     \"loss\": tff_train_loss,\n",
    "                     \"val_loss\": tff_val_loss}\n",
    "\n",
    "if eval_model:\n",
    "    eval_model.save('models/' + experiment_name + \".h5\")\n",
    "else:\n",
    "    print(\"Training didn't started\")\n",
    "    exit()\n",
    "\n"
   ]
  },
  {
   "cell_type": "code",
   "execution_count": 52,
   "id": "92553ec8",
   "metadata": {},
   "outputs": [
    {
     "data": {
      "text/plain": [
       "<matplotlib.legend.Legend at 0x18affa460a0>"
      ]
     },
     "execution_count": 52,
     "metadata": {},
     "output_type": "execute_result"
    },
    {
     "data": {
      "image/png": "[encoded data removed]",
      "text/plain": [
       "<Figure size 720x432 with 1 Axes>"
      ]
     },
     "metadata": {
      "needs_background": "light"
     },
     "output_type": "display_data"
    },
    {
     "data": {
      "image/png": "[encoded data removed]",
      "text/plain": [
       "<Figure size 720x432 with 1 Axes>"
      ]
     },
     "metadata": {
      "needs_background": "light"
     },
     "output_type": "display_data"
    }
   ],
   "source": [
    "fig = plt.figure(figsize=(10, 6))\n",
    "plot_graph(list(range(1, 11)), tff_train_acc, label='Train Accuracy')\n",
    "plot_graph(list(range(1, 11)), tff_val_acc, label='Validation Accuracy')\n",
    "plt.legend()\n",
    "# plt.savefig(output_dir / \"federated_model_Accuracy.png\")\n",
    "\n",
    "plt.figure(figsize=(10, 6))\n",
    "plot_graph(list(range(1, 11)), tff_train_loss, label='Train loss')\n",
    "plot_graph(list(range(1, 11)), tff_val_loss, label='Validation loss')\n",
    "plt.legend()\n",
    "# plt.savefig(output_dir / \"federated_model_loss.png\")"
   ]
  },
  {
   "cell_type": "code",
   "execution_count": null,
   "id": "817b7278",
   "metadata": {},
   "outputs": [],
   "source": []
  }
 ],
 "metadata": {
  "kernelspec": {
   "display_name": "Python 3 (ipykernel)",
   "language": "python",
   "name": "python3"
  },
  "language_info": {
   "codemirror_mode": {
    "name": "ipython",
    "version": 3
   },
   "file_extension": ".py",
   "mimetype": "text/x-python",
   "name": "python",
   "nbconvert_exporter": "python",
   "pygments_lexer": "ipython3",
   "version": "3.8.13"
  }
 },
 "nbformat": 4,
 "nbformat_minor": 5
}
